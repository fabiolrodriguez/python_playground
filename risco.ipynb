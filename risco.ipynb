{
 "cells": [
  {
   "cell_type": "markdown",
   "metadata": {},
   "source": [
    "# Calculo de risco das ações"
   ]
  },
  {
   "cell_type": "markdown",
   "metadata": {},
   "source": [
    "## Importando as libs"
   ]
  },
  {
   "cell_type": "code",
   "execution_count": 2,
   "metadata": {},
   "outputs": [],
   "source": [
    "import pandas as pd\n",
    "import numpy as np\n",
    "import math\n",
    "import matplotlib.pyplot as plt\n",
    "import seaborn as sns\n",
    "from scipy import stats"
   ]
  },
  {
   "cell_type": "markdown",
   "metadata": {},
   "source": [
    "## Importando os dados"
   ]
  },
  {
   "cell_type": "code",
   "execution_count": 3,
   "metadata": {},
   "outputs": [
    {
     "data": {
      "text/html": [
       "<div>\n",
       "<style scoped>\n",
       "    .dataframe tbody tr th:only-of-type {\n",
       "        vertical-align: middle;\n",
       "    }\n",
       "\n",
       "    .dataframe tbody tr th {\n",
       "        vertical-align: top;\n",
       "    }\n",
       "\n",
       "    .dataframe thead th {\n",
       "        text-align: right;\n",
       "    }\n",
       "</style>\n",
       "<table border=\"1\" class=\"dataframe\">\n",
       "  <thead>\n",
       "    <tr style=\"text-align: right;\">\n",
       "      <th></th>\n",
       "      <th>Date</th>\n",
       "      <th>GOL</th>\n",
       "      <th>CVC</th>\n",
       "      <th>WEG</th>\n",
       "      <th>MGLU</th>\n",
       "      <th>TOTVS</th>\n",
       "      <th>IBOV</th>\n",
       "    </tr>\n",
       "  </thead>\n",
       "  <tbody>\n",
       "    <tr>\n",
       "      <th>0</th>\n",
       "      <td>2015-01-02</td>\n",
       "      <td>14.99</td>\n",
       "      <td>11.164607</td>\n",
       "      <td>4.988705</td>\n",
       "      <td>2.058074</td>\n",
       "      <td>10.155536</td>\n",
       "      <td>47.259998</td>\n",
       "    </tr>\n",
       "    <tr>\n",
       "      <th>1</th>\n",
       "      <td>2015-01-05</td>\n",
       "      <td>14.85</td>\n",
       "      <td>11.017703</td>\n",
       "      <td>5.022718</td>\n",
       "      <td>2.096750</td>\n",
       "      <td>9.843493</td>\n",
       "      <td>46.320000</td>\n",
       "    </tr>\n",
       "    <tr>\n",
       "      <th>2</th>\n",
       "      <td>2015-01-06</td>\n",
       "      <td>15.21</td>\n",
       "      <td>10.870803</td>\n",
       "      <td>4.948212</td>\n",
       "      <td>2.069124</td>\n",
       "      <td>9.227921</td>\n",
       "      <td>46.580002</td>\n",
       "    </tr>\n",
       "    <tr>\n",
       "      <th>3</th>\n",
       "      <td>2015-01-07</td>\n",
       "      <td>14.55</td>\n",
       "      <td>10.775316</td>\n",
       "      <td>4.891521</td>\n",
       "      <td>2.138187</td>\n",
       "      <td>9.162673</td>\n",
       "      <td>48.150002</td>\n",
       "    </tr>\n",
       "    <tr>\n",
       "      <th>4</th>\n",
       "      <td>2015-01-08</td>\n",
       "      <td>14.27</td>\n",
       "      <td>10.393366</td>\n",
       "      <td>4.974128</td>\n",
       "      <td>2.121612</td>\n",
       "      <td>9.375432</td>\n",
       "      <td>48.509998</td>\n",
       "    </tr>\n",
       "    <tr>\n",
       "      <th>...</th>\n",
       "      <td>...</td>\n",
       "      <td>...</td>\n",
       "      <td>...</td>\n",
       "      <td>...</td>\n",
       "      <td>...</td>\n",
       "      <td>...</td>\n",
       "      <td>...</td>\n",
       "    </tr>\n",
       "    <tr>\n",
       "      <th>2477</th>\n",
       "      <td>2025-01-27</td>\n",
       "      <td>1.71</td>\n",
       "      <td>1.860000</td>\n",
       "      <td>53.310001</td>\n",
       "      <td>7.010000</td>\n",
       "      <td>31.209999</td>\n",
       "      <td>121.870003</td>\n",
       "    </tr>\n",
       "    <tr>\n",
       "      <th>2478</th>\n",
       "      <td>2025-01-28</td>\n",
       "      <td>1.71</td>\n",
       "      <td>1.770000</td>\n",
       "      <td>54.090000</td>\n",
       "      <td>6.760000</td>\n",
       "      <td>30.790001</td>\n",
       "      <td>121.029999</td>\n",
       "    </tr>\n",
       "    <tr>\n",
       "      <th>2479</th>\n",
       "      <td>2025-01-29</td>\n",
       "      <td>1.69</td>\n",
       "      <td>1.800000</td>\n",
       "      <td>54.430000</td>\n",
       "      <td>6.590000</td>\n",
       "      <td>31.150000</td>\n",
       "      <td>120.169998</td>\n",
       "    </tr>\n",
       "    <tr>\n",
       "      <th>2480</th>\n",
       "      <td>2025-01-30</td>\n",
       "      <td>1.70</td>\n",
       "      <td>1.950000</td>\n",
       "      <td>56.209999</td>\n",
       "      <td>7.270000</td>\n",
       "      <td>32.610001</td>\n",
       "      <td>123.949997</td>\n",
       "    </tr>\n",
       "    <tr>\n",
       "      <th>2481</th>\n",
       "      <td>2025-01-31</td>\n",
       "      <td>1.70</td>\n",
       "      <td>1.970000</td>\n",
       "      <td>55.040001</td>\n",
       "      <td>7.460000</td>\n",
       "      <td>34.060001</td>\n",
       "      <td>123.000000</td>\n",
       "    </tr>\n",
       "  </tbody>\n",
       "</table>\n",
       "<p>2482 rows × 7 columns</p>\n",
       "</div>"
      ],
      "text/plain": [
       "            Date    GOL        CVC        WEG      MGLU      TOTVS        IBOV\n",
       "0     2015-01-02  14.99  11.164607   4.988705  2.058074  10.155536   47.259998\n",
       "1     2015-01-05  14.85  11.017703   5.022718  2.096750   9.843493   46.320000\n",
       "2     2015-01-06  15.21  10.870803   4.948212  2.069124   9.227921   46.580002\n",
       "3     2015-01-07  14.55  10.775316   4.891521  2.138187   9.162673   48.150002\n",
       "4     2015-01-08  14.27  10.393366   4.974128  2.121612   9.375432   48.509998\n",
       "...          ...    ...        ...        ...       ...        ...         ...\n",
       "2477  2025-01-27   1.71   1.860000  53.310001  7.010000  31.209999  121.870003\n",
       "2478  2025-01-28   1.71   1.770000  54.090000  6.760000  30.790001  121.029999\n",
       "2479  2025-01-29   1.69   1.800000  54.430000  6.590000  31.150000  120.169998\n",
       "2480  2025-01-30   1.70   1.950000  56.209999  7.270000  32.610001  123.949997\n",
       "2481  2025-01-31   1.70   1.970000  55.040001  7.460000  34.060001  123.000000\n",
       "\n",
       "[2482 rows x 7 columns]"
      ]
     },
     "execution_count": 3,
     "metadata": {},
     "output_type": "execute_result"
    }
   ],
   "source": [
    "dataset = pd.read_csv('acoes.csv')\n",
    "dataset"
   ]
  },
  {
   "cell_type": "code",
   "execution_count": 4,
   "metadata": {},
   "outputs": [
    {
     "data": {
      "text/html": [
       "<div>\n",
       "<style scoped>\n",
       "    .dataframe tbody tr th:only-of-type {\n",
       "        vertical-align: middle;\n",
       "    }\n",
       "\n",
       "    .dataframe tbody tr th {\n",
       "        vertical-align: top;\n",
       "    }\n",
       "\n",
       "    .dataframe thead th {\n",
       "        text-align: right;\n",
       "    }\n",
       "</style>\n",
       "<table border=\"1\" class=\"dataframe\">\n",
       "  <thead>\n",
       "    <tr style=\"text-align: right;\">\n",
       "      <th></th>\n",
       "      <th>GOL</th>\n",
       "      <th>CVC</th>\n",
       "      <th>WEG</th>\n",
       "      <th>MGLU</th>\n",
       "      <th>TOTVS</th>\n",
       "      <th>IBOV</th>\n",
       "    </tr>\n",
       "  </thead>\n",
       "  <tbody>\n",
       "    <tr>\n",
       "      <th>count</th>\n",
       "      <td>2482.000000</td>\n",
       "      <td>2482.000000</td>\n",
       "      <td>2482.000000</td>\n",
       "      <td>2482.000000</td>\n",
       "      <td>2482.000000</td>\n",
       "      <td>2482.000000</td>\n",
       "    </tr>\n",
       "    <tr>\n",
       "      <th>mean</th>\n",
       "      <td>13.045713</td>\n",
       "      <td>18.552435</td>\n",
       "      <td>21.221578</td>\n",
       "      <td>54.354839</td>\n",
       "      <td>19.295931</td>\n",
       "      <td>89.358167</td>\n",
       "    </tr>\n",
       "    <tr>\n",
       "      <th>std</th>\n",
       "      <td>9.458743</td>\n",
       "      <td>14.104244</td>\n",
       "      <td>15.303004</td>\n",
       "      <td>66.279906</td>\n",
       "      <td>9.528572</td>\n",
       "      <td>26.242632</td>\n",
       "    </tr>\n",
       "    <tr>\n",
       "      <th>min</th>\n",
       "      <td>0.980000</td>\n",
       "      <td>1.380000</td>\n",
       "      <td>4.284400</td>\n",
       "      <td>0.279106</td>\n",
       "      <td>6.457618</td>\n",
       "      <td>36.450001</td>\n",
       "    </tr>\n",
       "    <tr>\n",
       "      <th>25%</th>\n",
       "      <td>6.275000</td>\n",
       "      <td>6.612469</td>\n",
       "      <td>6.569133</td>\n",
       "      <td>8.731179</td>\n",
       "      <td>9.416551</td>\n",
       "      <td>64.285002</td>\n",
       "    </tr>\n",
       "    <tr>\n",
       "      <th>50%</th>\n",
       "      <td>10.295000</td>\n",
       "      <td>15.063796</td>\n",
       "      <td>16.623083</td>\n",
       "      <td>28.153233</td>\n",
       "      <td>19.442447</td>\n",
       "      <td>96.430000</td>\n",
       "    </tr>\n",
       "    <tr>\n",
       "      <th>75%</th>\n",
       "      <td>19.107501</td>\n",
       "      <td>27.519730</td>\n",
       "      <td>34.852096</td>\n",
       "      <td>63.204473</td>\n",
       "      <td>28.069101</td>\n",
       "      <td>111.129999</td>\n",
       "    </tr>\n",
       "    <tr>\n",
       "      <th>max</th>\n",
       "      <td>43.790001</td>\n",
       "      <td>52.870266</td>\n",
       "      <td>58.465912</td>\n",
       "      <td>256.293274</td>\n",
       "      <td>38.656746</td>\n",
       "      <td>133.619995</td>\n",
       "    </tr>\n",
       "  </tbody>\n",
       "</table>\n",
       "</div>"
      ],
      "text/plain": [
       "               GOL          CVC          WEG         MGLU        TOTVS  \\\n",
       "count  2482.000000  2482.000000  2482.000000  2482.000000  2482.000000   \n",
       "mean     13.045713    18.552435    21.221578    54.354839    19.295931   \n",
       "std       9.458743    14.104244    15.303004    66.279906     9.528572   \n",
       "min       0.980000     1.380000     4.284400     0.279106     6.457618   \n",
       "25%       6.275000     6.612469     6.569133     8.731179     9.416551   \n",
       "50%      10.295000    15.063796    16.623083    28.153233    19.442447   \n",
       "75%      19.107501    27.519730    34.852096    63.204473    28.069101   \n",
       "max      43.790001    52.870266    58.465912   256.293274    38.656746   \n",
       "\n",
       "              IBOV  \n",
       "count  2482.000000  \n",
       "mean     89.358167  \n",
       "std      26.242632  \n",
       "min      36.450001  \n",
       "25%      64.285002  \n",
       "50%      96.430000  \n",
       "75%     111.129999  \n",
       "max     133.619995  "
      ]
     },
     "execution_count": 4,
     "metadata": {},
     "output_type": "execute_result"
    }
   ],
   "source": [
    "dataset.describe()"
   ]
  },
  {
   "cell_type": "markdown",
   "metadata": {},
   "source": [
    "## Calculos de retorno anuais"
   ]
  },
  {
   "cell_type": "markdown",
   "metadata": {},
   "source": [
    "### 2015"
   ]
  },
  {
   "cell_type": "code",
   "execution_count": 8,
   "metadata": {},
   "outputs": [
    {
     "data": {
      "text/plain": [
       "(0    11.164607\n",
       " Name: CVC, dtype: float64,\n",
       " 244    10.307518\n",
       " Name: CVC, dtype: float64)"
      ]
     },
     "execution_count": 8,
     "metadata": {},
     "output_type": "execute_result"
    }
   ],
   "source": [
    "dataset['CVC'][dataset['Date'] == '2015-01-02'], dataset['CVC'][dataset['Date'] == '2015-12-30']"
   ]
  },
  {
   "cell_type": "code",
   "execution_count": 11,
   "metadata": {},
   "outputs": [
    {
     "data": {
      "text/plain": [
       "np.float64(-8.019206171757467)"
      ]
     },
     "execution_count": 11,
     "metadata": {},
     "output_type": "execute_result"
    }
   ],
   "source": [
    "np.log(10.30 / 11.16) * 100"
   ]
  },
  {
   "cell_type": "code",
   "execution_count": 12,
   "metadata": {},
   "outputs": [
    {
     "data": {
      "text/plain": [
       "(0    2.058074\n",
       " Name: MGLU, dtype: float64,\n",
       " 244    0.629147\n",
       " Name: MGLU, dtype: float64)"
      ]
     },
     "execution_count": 12,
     "metadata": {},
     "output_type": "execute_result"
    }
   ],
   "source": [
    "dataset['MGLU'][dataset['Date'] == '2015-01-02'], dataset['MGLU'][dataset['Date'] == '2015-12-30']"
   ]
  },
  {
   "cell_type": "code",
   "execution_count": 13,
   "metadata": {},
   "outputs": [
    {
     "data": {
      "text/plain": [
       "np.float64(-119.58755940933166)"
      ]
     },
     "execution_count": 13,
     "metadata": {},
     "output_type": "execute_result"
    }
   ],
   "source": [
    "np.log(0.62 / 2.05) * 100"
   ]
  },
  {
   "cell_type": "markdown",
   "metadata": {},
   "source": [
    "### 2016"
   ]
  },
  {
   "cell_type": "code",
   "execution_count": 17,
   "metadata": {},
   "outputs": [
    {
     "data": {
      "text/plain": [
       "(245    9.566906\n",
       " Name: CVC, dtype: float64,\n",
       " 493    18.947781\n",
       " Name: CVC, dtype: float64)"
      ]
     },
     "execution_count": 17,
     "metadata": {},
     "output_type": "execute_result"
    }
   ],
   "source": [
    "dataset['CVC'][dataset['Date'] == '2016-01-04'], dataset['CVC'][dataset['Date'] == '2016-12-29']"
   ]
  },
  {
   "cell_type": "code",
   "execution_count": 18,
   "metadata": {},
   "outputs": [
    {
     "data": {
      "text/plain": [
       "np.float64(73.51400374703823)"
      ]
     },
     "execution_count": 18,
     "metadata": {},
     "output_type": "execute_result"
    }
   ],
   "source": [
    "np.log( 19.94 / 9.56) * 100"
   ]
  },
  {
   "cell_type": "code",
   "execution_count": 19,
   "metadata": {},
   "outputs": [
    {
     "data": {
      "text/plain": [
       "(245    0.639841\n",
       " Name: MGLU, dtype: float64,\n",
       " 493    3.784509\n",
       " Name: MGLU, dtype: float64)"
      ]
     },
     "execution_count": 19,
     "metadata": {},
     "output_type": "execute_result"
    }
   ],
   "source": [
    "dataset['MGLU'][dataset['Date'] == '2016-01-04'], dataset['MGLU'][dataset['Date'] == '2016-12-29']"
   ]
  },
  {
   "cell_type": "code",
   "execution_count": 20,
   "metadata": {},
   "outputs": [
    {
     "data": {
      "text/plain": [
       "np.float64(179.1759469228055)"
      ]
     },
     "execution_count": 20,
     "metadata": {},
     "output_type": "execute_result"
    }
   ],
   "source": [
    "np.log( 3.78 / 0.63 ) * 100"
   ]
  },
  {
   "cell_type": "markdown",
   "metadata": {},
   "source": [
    "### 2017"
   ]
  },
  {
   "cell_type": "code",
   "execution_count": 24,
   "metadata": {},
   "outputs": [
    {
     "data": {
      "text/plain": [
       "(494    18.404131\n",
       " Name: CVC, dtype: float64,\n",
       " 739    39.227718\n",
       " Name: CVC, dtype: float64)"
      ]
     },
     "execution_count": 24,
     "metadata": {},
     "output_type": "execute_result"
    }
   ],
   "source": [
    "dataset['CVC'][dataset['Date'] == '2017-01-02'], dataset['CVC'][dataset['Date'] == '2017-12-28']"
   ]
  },
  {
   "cell_type": "code",
   "execution_count": 25,
   "metadata": {},
   "outputs": [
    {
     "data": {
      "text/plain": [
       "np.float64(75.68361561532603)"
      ]
     },
     "execution_count": 25,
     "metadata": {},
     "output_type": "execute_result"
    }
   ],
   "source": [
    "np.log( 39.22 / 18.40 ) * 100"
   ]
  },
  {
   "cell_type": "code",
   "execution_count": 26,
   "metadata": {},
   "outputs": [
    {
     "data": {
      "text/plain": [
       "(494    3.625528\n",
       " Name: MGLU, dtype: float64,\n",
       " 739    23.124508\n",
       " Name: MGLU, dtype: float64)"
      ]
     },
     "execution_count": 26,
     "metadata": {},
     "output_type": "execute_result"
    }
   ],
   "source": [
    "dataset['MGLU'][dataset['Date'] == '2017-01-02'], dataset['MGLU'][dataset['Date'] == '2017-12-28']"
   ]
  },
  {
   "cell_type": "code",
   "execution_count": 27,
   "metadata": {},
   "outputs": [
    {
     "data": {
      "text/plain": [
       "np.float64(185.4224017966497)"
      ]
     },
     "execution_count": 27,
     "metadata": {},
     "output_type": "execute_result"
    }
   ],
   "source": [
    "np.log(23.12/3.62) * 100"
   ]
  },
  {
   "cell_type": "markdown",
   "metadata": {},
   "source": [
    "### 2018"
   ]
  },
  {
   "cell_type": "code",
   "execution_count": 42,
   "metadata": {},
   "outputs": [
    {
     "data": {
      "text/plain": [
       "(740    40.343891\n",
       " Name: CVC, dtype: float64,\n",
       " 980    49.91671\n",
       " Name: CVC, dtype: float64)"
      ]
     },
     "execution_count": 42,
     "metadata": {},
     "output_type": "execute_result"
    }
   ],
   "source": [
    "dataset['CVC'][dataset['Date'] == '2018-01-02'], dataset['CVC'][dataset['Date'] == '2018-12-28']"
   ]
  },
  {
   "cell_type": "code",
   "execution_count": 43,
   "metadata": {},
   "outputs": [
    {
     "data": {
      "text/plain": [
       "np.float64(21.287785095545196)"
      ]
     },
     "execution_count": 43,
     "metadata": {},
     "output_type": "execute_result"
    }
   ],
   "source": [
    "np.log( 49.91 / 40.34 ) * 100"
   ]
  },
  {
   "cell_type": "code",
   "execution_count": 44,
   "metadata": {},
   "outputs": [
    {
     "data": {
      "text/plain": [
       "(740    22.859308\n",
       " Name: MGLU, dtype: float64,\n",
       " 980    52.339832\n",
       " Name: MGLU, dtype: float64)"
      ]
     },
     "execution_count": 44,
     "metadata": {},
     "output_type": "execute_result"
    }
   ],
   "source": [
    "dataset['MGLU'][dataset['Date'] == '2018-01-02'], dataset['MGLU'][dataset['Date'] == '2018-12-28']"
   ]
  },
  {
   "cell_type": "code",
   "execution_count": 45,
   "metadata": {},
   "outputs": [
    {
     "data": {
      "text/plain": [
       "np.float64(82.86187030439027)"
      ]
     },
     "execution_count": 45,
     "metadata": {},
     "output_type": "execute_result"
    }
   ],
   "source": [
    "np.log(52.33 / 22.85) * 100"
   ]
  },
  {
   "cell_type": "markdown",
   "metadata": {},
   "source": [
    "### 2019"
   ]
  },
  {
   "cell_type": "code",
   "execution_count": 47,
   "metadata": {},
   "outputs": [
    {
     "data": {
      "text/plain": [
       "(981    49.851437\n",
       " Name: CVC, dtype: float64,\n",
       " 1215    36.099503\n",
       " Name: CVC, dtype: float64)"
      ]
     },
     "execution_count": 47,
     "metadata": {},
     "output_type": "execute_result"
    }
   ],
   "source": [
    "dataset['CVC'][dataset['Date'] == '2019-01-02'], dataset['CVC'][dataset['Date'] == '2019-12-30']"
   ]
  },
  {
   "cell_type": "code",
   "execution_count": 48,
   "metadata": {},
   "outputs": [
    {
     "data": {
      "text/plain": [
       "np.float64(-26.90667159173346)"
      ]
     },
     "execution_count": 48,
     "metadata": {},
     "output_type": "execute_result"
    }
   ],
   "source": [
    "np.log(38.09 / 49.85) * 100"
   ]
  },
  {
   "cell_type": "code",
   "execution_count": 49,
   "metadata": {},
   "outputs": [
    {
     "data": {
      "text/plain": [
       "(981    53.938564\n",
       " Name: MGLU, dtype: float64,\n",
       " 1215    111.131203\n",
       " Name: MGLU, dtype: float64)"
      ]
     },
     "execution_count": 49,
     "metadata": {},
     "output_type": "execute_result"
    }
   ],
   "source": [
    "dataset['MGLU'][dataset['Date'] == '2019-01-02'], dataset['MGLU'][dataset['Date'] == '2019-12-30']"
   ]
  },
  {
   "cell_type": "code",
   "execution_count": 50,
   "metadata": {},
   "outputs": [
    {
     "data": {
      "text/plain": [
       "np.float64(72.30137778484195)"
      ]
     },
     "execution_count": 50,
     "metadata": {},
     "output_type": "execute_result"
    }
   ],
   "source": [
    "np.log(111.13 / 53.93 ) * 100"
   ]
  },
  {
   "cell_type": "markdown",
   "metadata": {},
   "source": [
    "### 2020"
   ]
  },
  {
   "cell_type": "code",
   "execution_count": 51,
   "metadata": {},
   "outputs": [
    {
     "data": {
      "text/plain": [
       "(1216    36.849518\n",
       " Name: CVC, dtype: float64,\n",
       " 1463    18.026854\n",
       " Name: CVC, dtype: float64)"
      ]
     },
     "execution_count": 51,
     "metadata": {},
     "output_type": "execute_result"
    }
   ],
   "source": [
    "dataset['CVC'][dataset['Date'] == '2020-01-02'], dataset['CVC'][dataset['Date'] == '2020-12-30']"
   ]
  },
  {
   "cell_type": "code",
   "execution_count": 52,
   "metadata": {},
   "outputs": [
    {
     "data": {
      "text/plain": [
       "np.float64(-71.51019592069143)"
      ]
     },
     "execution_count": 52,
     "metadata": {},
     "output_type": "execute_result"
    }
   ],
   "source": [
    "np.log(18.02 / 36.84) * 100"
   ]
  },
  {
   "cell_type": "code",
   "execution_count": 53,
   "metadata": {},
   "outputs": [
    {
     "data": {
      "text/plain": [
       "(1216    115.015053\n",
       " Name: MGLU, dtype: float64,\n",
       " 1463    233.194061\n",
       " Name: MGLU, dtype: float64)"
      ]
     },
     "execution_count": 53,
     "metadata": {},
     "output_type": "execute_result"
    }
   ],
   "source": [
    "dataset['MGLU'][dataset['Date'] == '2020-01-02'], dataset['MGLU'][dataset['Date'] == '2020-12-30']"
   ]
  },
  {
   "cell_type": "code",
   "execution_count": 54,
   "metadata": {},
   "outputs": [
    {
     "data": {
      "text/plain": [
       "np.float64(70.68344908057479)"
      ]
     },
     "execution_count": 54,
     "metadata": {},
     "output_type": "execute_result"
    }
   ],
   "source": [
    "np.log(233.19 / 115.01) * 100"
   ]
  },
  {
   "cell_type": "code",
   "execution_count": null,
   "metadata": {},
   "outputs": [],
   "source": []
  }
 ],
 "metadata": {
  "kernelspec": {
   "display_name": "Python 3",
   "language": "python",
   "name": "python3"
  },
  "language_info": {
   "codemirror_mode": {
    "name": "ipython",
    "version": 3
   },
   "file_extension": ".py",
   "mimetype": "text/x-python",
   "name": "python",
   "nbconvert_exporter": "python",
   "pygments_lexer": "ipython3",
   "version": "3.13.2"
  }
 },
 "nbformat": 4,
 "nbformat_minor": 2
}
