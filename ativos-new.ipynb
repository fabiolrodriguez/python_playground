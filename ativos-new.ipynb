{
 "cells": [
  {
   "cell_type": "markdown",
   "metadata": {},
   "source": [
    "# Alocação e otimização de portfólios"
   ]
  },
  {
   "cell_type": "markdown",
   "metadata": {},
   "source": [
    "## Importando libs"
   ]
  },
  {
   "cell_type": "code",
   "execution_count": null,
   "metadata": {},
   "outputs": [],
   "source": [
    "import pandas as pd\n",
    "import numpy as np\n",
    "import matplotlib.pyplot as plt\n",
    "import plotly.express as px"
   ]
  },
  {
   "cell_type": "markdown",
   "metadata": {},
   "source": [
    "## Importando os dados"
   ]
  },
  {
   "cell_type": "code",
   "execution_count": null,
   "metadata": {},
   "outputs": [],
   "source": [
    "dataset = pd.read_csv('acoes.csv')\n",
    "dataset"
   ]
  },
  {
   "cell_type": "markdown",
   "metadata": {},
   "source": [
    "## Alocação aleatório de ativos"
   ]
  },
  {
   "cell_type": "code",
   "execution_count": null,
   "metadata": {},
   "outputs": [],
   "source": [
    "def alocacao_ativos(dataset, dinheiro_total, seed = 0, melhores_pesos = []):\n",
    "    dataset = dataset.copy()\n",
    "\n",
    "    if seed != 0  :\n",
    "        np.random.seed(seed)\n",
    "\n",
    "    if len(melhores_pesos) > 0:\n",
    "        pesos = melhores_pesos\n",
    "    else:\n",
    "        pesos = np.random.random(len(dataset.columns) - 1)\n",
    "        #print(pesos, pesos.sum())\n",
    "        pesos = pesos / pesos.sum()\n",
    "        #print(pesos, pesos.sum())        \n",
    "\n",
    "    pesos = np.random.random(len(dataset.columns) - 1)\n",
    "    pesos = pesos / pesos.sum()\n",
    "    print(pesos, pesos.sum())\n",
    "\n",
    "    colunas = dataset.columns[1:]\n",
    "\n",
    "    for i in colunas:\n",
    "        dataset[i] = ( dataset[i] / dataset[i][0])\n",
    "\n",
    "    for i, acao in enumerate(dataset.columns[1:]):\n",
    "        dataset[acao] = dataset[acao] * pesos[i] * dinheiro_total\n",
    "\n",
    "    dataset['soma valor'] = dataset.iloc[:, 1:].sum(axis = 1)\n",
    "\n",
    "    datas = dataset['Date']\n",
    "\n",
    "    dataset.drop(labels= ['Date'], axis = 1, inplace= True)\n",
    "    dataset['taxa retorno'] = 0.0\n",
    "\n",
    "    for i in range(1, len(dataset)):\n",
    "        dataset['taxa retorno'][i] = ((dataset['soma valor'][i] / dataset['soma valor'][i -1]) - 1) * 100\n",
    "\n",
    "    acoes_pesos = pd.DataFrame(data = {'Ações': colunas, 'Pesos': pesos * 100})\n",
    "\n",
    "    return dataset, datas, acoes_pesos, dataset.loc[len(dataset) - 1]['soma valor']"
   ]
  },
  {
   "cell_type": "code",
   "execution_count": null,
   "metadata": {},
   "outputs": [],
   "source": [
    "dataset, datas, acoes_pesos, soma_valor = alocacao_ativos(pd.read_csv('acoes.csv'), 5000, 10)"
   ]
  },
  {
   "cell_type": "code",
   "execution_count": null,
   "metadata": {},
   "outputs": [],
   "source": [
    "dataset"
   ]
  },
  {
   "cell_type": "code",
   "execution_count": null,
   "metadata": {},
   "outputs": [],
   "source": [
    "datas"
   ]
  },
  {
   "cell_type": "code",
   "execution_count": null,
   "metadata": {},
   "outputs": [],
   "source": [
    "acoes_pesos"
   ]
  },
  {
   "cell_type": "code",
   "execution_count": null,
   "metadata": {},
   "outputs": [],
   "source": [
    "soma_valor"
   ]
  },
  {
   "cell_type": "markdown",
   "metadata": {},
   "source": [
    "## Visualização de dados"
   ]
  },
  {
   "cell_type": "code",
   "execution_count": null,
   "metadata": {},
   "outputs": [],
   "source": [
    "figura = px.line(x = datas, y = dataset['taxa retorno'], title = 'Retorno diário do Portfólio')\n",
    "figura.show()"
   ]
  },
  {
   "cell_type": "code",
   "execution_count": null,
   "metadata": {},
   "outputs": [],
   "source": [
    "figura = px.line(title = 'Evolução do patrimônio')\n",
    "for i in dataset.drop(columns= ['soma valor', 'taxa retorno']).columns:\n",
    "    figura.add_scatter(x = datas, y = dataset[i], name = i)\n",
    "\n",
    "figura.show()"
   ]
  },
  {
   "cell_type": "code",
   "execution_count": null,
   "metadata": {},
   "outputs": [],
   "source": [
    "figura = px.line(x = datas, y = dataset['soma valor'], title = 'Evoluçào de Patrimônio')\n",
    "figura.show()"
   ]
  },
  {
   "cell_type": "markdown",
   "metadata": {},
   "source": [
    "## Retorno acumulado do período"
   ]
  },
  {
   "cell_type": "code",
   "execution_count": null,
   "metadata": {},
   "outputs": [],
   "source": [
    "dataset.loc[len(dataset) - 1]['soma valor'] / dataset.loc[0]['soma valor'] - 1"
   ]
  },
  {
   "cell_type": "markdown",
   "metadata": {},
   "source": [
    "## Desvio Padrão"
   ]
  },
  {
   "cell_type": "code",
   "execution_count": null,
   "metadata": {},
   "outputs": [],
   "source": [
    "dataset['taxa retorno'].std()"
   ]
  },
  {
   "cell_type": "markdown",
   "metadata": {},
   "source": [
    "## Sharpe ratio"
   ]
  },
  {
   "cell_type": "code",
   "execution_count": null,
   "metadata": {},
   "outputs": [],
   "source": [
    "(dataset['taxa retorno'].mean() / dataset['taxa retorno'].std()) * np.sqrt(246)"
   ]
  },
  {
   "cell_type": "code",
   "execution_count": null,
   "metadata": {},
   "outputs": [],
   "source": [
    "dinheiro_total = 5000\n",
    "soma_valor - dinheiro_total"
   ]
  },
  {
   "cell_type": "code",
   "execution_count": null,
   "metadata": {},
   "outputs": [],
   "source": [
    "taxa_selic_2015 = 12.75\n",
    "taxa_selic_2016 = 14.25\n",
    "taxa_selic_2017 = 12.25\n",
    "taxa_selic_2018 = 6.50\n",
    "taxa_selic_2019 = 5.0\n",
    "taxa_selic_2020 = 2.0"
   ]
  },
  {
   "cell_type": "code",
   "execution_count": null,
   "metadata": {},
   "outputs": [],
   "source": [
    "valor_2015 = dinheiro_total + (dinheiro_total * taxa_selic_2015 / 100)\n",
    "valor_2015"
   ]
  },
  {
   "cell_type": "code",
   "execution_count": null,
   "metadata": {},
   "outputs": [],
   "source": [
    "valor_2016 = valor_2015 + (valor_2015 * taxa_selic_2016 / 100)\n",
    "valor_2016\n"
   ]
  },
  {
   "cell_type": "code",
   "execution_count": null,
   "metadata": {},
   "outputs": [],
   "source": [
    "valor_2017 = valor_2016 + (valor_2016 * taxa_selic_2017 / 100)\n",
    "valor_2017\n"
   ]
  },
  {
   "cell_type": "code",
   "execution_count": null,
   "metadata": {},
   "outputs": [],
   "source": [
    "valor_2018 = valor_2017 + (valor_2017 * taxa_selic_2018 / 100)\n",
    "valor_2018\n"
   ]
  },
  {
   "cell_type": "code",
   "execution_count": null,
   "metadata": {},
   "outputs": [],
   "source": [
    "valor_2019 = valor_2018 + (valor_2018 * taxa_selic_2019 / 100)\n",
    "valor_2019\n"
   ]
  },
  {
   "cell_type": "code",
   "execution_count": null,
   "metadata": {},
   "outputs": [],
   "source": [
    "valor_2020 = valor_2019 + (valor_2019 * taxa_selic_2020 / 100)\n",
    "valor_2020"
   ]
  },
  {
   "cell_type": "code",
   "execution_count": null,
   "metadata": {},
   "outputs": [],
   "source": [
    "redimentos = valor_2020 - dinheiro_total\n",
    "redimentos"
   ]
  },
  {
   "cell_type": "code",
   "execution_count": null,
   "metadata": {},
   "outputs": [],
   "source": [
    "ir = redimentos * 15 / 100\n",
    "ir"
   ]
  },
  {
   "cell_type": "code",
   "execution_count": null,
   "metadata": {},
   "outputs": [],
   "source": [
    "valor_2020 - ir"
   ]
  },
  {
   "cell_type": "code",
   "execution_count": null,
   "metadata": {},
   "outputs": [],
   "source": [
    "taxa_selic_historico = np.array([12.75, 14.25, 12.25, 6.5, 5.0, 2.0])"
   ]
  },
  {
   "cell_type": "code",
   "execution_count": null,
   "metadata": {},
   "outputs": [],
   "source": [
    "(dataset['taxa retorno'].mean() - taxa_selic_historico.mean() / 100 / dataset['taxa retorno'].std()) * np.sqrt(246)"
   ]
  },
  {
   "cell_type": "markdown",
   "metadata": {},
   "source": [
    "## Otimização de portfolio - randômico"
   ]
  },
  {
   "cell_type": "code",
   "execution_count": null,
   "metadata": {},
   "outputs": [],
   "source": [
    "import sys"
   ]
  },
  {
   "cell_type": "code",
   "execution_count": null,
   "metadata": {},
   "outputs": [],
   "source": [
    "def alocacao_portfolio(dataset, dinheiro_total, sem_risco, repeticoes):\n",
    "    dataset = dataset.copy()\n",
    "    dataset_original = dataset.copy()\n",
    "\n",
    "    lista_retorno_esperado = []\n",
    "    lista_volatilidade_esperada = []\n",
    "    lista_sharpe_ratio = []\n",
    "\n",
    "    melhor_sharp_ratio = 1 - sys.maxsize\n",
    "    melhores_pesos = np.empty\n",
    "    melhor_volatilidade = 0\n",
    "    melhor_retorno = 0\n",
    "\n",
    "\n",
    "    for _ in range(repeticoes):\n",
    "        pesos = np.random.random(len(dataset.columns) - 1)\n",
    "        pesos = pesos / pesos.sum()\n",
    "\n",
    "        colunas = dataset.columns\n",
    "\n",
    "        for i in colunas[1:]:\n",
    "            dataset[i] = dataset[i] / dataset[i][0]\n",
    "\n",
    "        for i, acao in enumerate(dataset.columns[1:]):\n",
    "            dataset[acao] = dataset[acao] * pesos[i] * dinheiro_total\n",
    "\n",
    "        dataset.drop(labels = ['Date'], axis = 1, inplace=True)\n",
    "\n",
    "        retorno_carteira = np.log(dataset / dataset.shift(1))\n",
    "    \n",
    "        matriz_covariancia = retorno_carteira.cov()\n",
    "\n",
    "        dataset['soma valor'] = dataset.sum(axis = 1)\n",
    "        dataset['taxa retorno'] = 0.0\n",
    "\n",
    "        for i in range(1, len(dataset)):\n",
    "            dataset['taxa retorno'][i] = np.log(dataset['soma valor'][i] / dataset['soma valor'][i - 1]) * 100\n",
    "\n",
    "        #sharpe_ratio = (dataset['taxa retorno'].mean() - sem_risco) / dataset['taxa retorno'].std() * np.sqrt(246)       \n",
    "\n",
    "        retorno_esperado =np.sum(dataset['taxa retorno'].mean() * pesos) * 246\n",
    "        volatilidade_esperada = np.sqrt(np.dot(pesos, np.dot(matriz_covariancia * 246, pesos)))\n",
    "\n",
    "        sharpe_ratio = (retorno_esperado - sem_risco) / volatilidade_esperada\n",
    "\n",
    "        if sharpe_ratio > melhor_sharp_ratio:\n",
    "            melhor_sharp_ratio = sharpe_ratio\n",
    "            melhores_pesos = pesos\n",
    "            melhor_volatilidade = volatilidade_esperada\n",
    "            melhor_retorno = retorno_esperado\n",
    "\n",
    "        lista_retorno_esperado.append(retorno_esperado)\n",
    "        lista_volatilidade_esperada.append(volatilidade_esperada)\n",
    "        lista_sharpe_ratio.append(sharpe_ratio)\n",
    "\n",
    "        dataset = dataset_original.copy()\n",
    "\n",
    "    return melhor_sharp_ratio, melhores_pesos, lista_retorno_esperado, lista_volatilidade_esperada, lista_sharpe_ratio, melhor_volatilidade, melhor_retorno"
   ]
  },
  {
   "cell_type": "code",
   "execution_count": null,
   "metadata": {},
   "outputs": [],
   "source": [
    "sharpe_ratio, melhores_pesos, ls_retono, ls_volatilidade, ls_sharpe_ratio, melhor_volatilidade, melhor_retorno = alocacao_portfolio(pd.read_csv('acoes.csv'), 5000, taxa_selic_historico.mean() / 100, 100)\n",
    "sharpe_ratio, melhores_pesos"
   ]
  },
  {
   "cell_type": "code",
   "execution_count": null,
   "metadata": {},
   "outputs": [],
   "source": [
    "_, _, acoes_pesos, soma_valor = alocacao_ativos(pd.read_csv('acoes.csv'), 10, melhores_pesos=melhores_pesos)\n",
    "acoes_pesos, soma_valor"
   ]
  },
  {
   "cell_type": "code",
   "execution_count": null,
   "metadata": {},
   "outputs": [],
   "source": [
    "print(ls_retono)"
   ]
  },
  {
   "cell_type": "code",
   "execution_count": null,
   "metadata": {},
   "outputs": [],
   "source": [
    "print(ls_volatilidade)"
   ]
  },
  {
   "cell_type": "code",
   "execution_count": null,
   "metadata": {},
   "outputs": [],
   "source": [
    "print(ls_sharpe_ratio)"
   ]
  },
  {
   "cell_type": "code",
   "execution_count": null,
   "metadata": {},
   "outputs": [],
   "source": [
    "melhor_retorno, melhor_volatilidade"
   ]
  },
  {
   "cell_type": "code",
   "execution_count": null,
   "metadata": {},
   "outputs": [],
   "source": [
    "plt.Figure(figsize=(10,8))\n",
    "plt.scatter(ls_volatilidade,ls_retono, c = ls_sharpe_ratio)\n",
    "plt.colorbar(label = \"Sharpe ratio\")\n",
    "plt.xlabel('Volatilidade')\n",
    "plt.ylabel('Retorno')\n",
    "plt.scatter(melhor_volatilidade, melhor_retorno, c = 'red', s = 100)"
   ]
  },
  {
   "cell_type": "markdown",
   "metadata": {},
   "source": [
    "## Otimização de portfólio com algoritmos de otimização"
   ]
  },
  {
   "cell_type": "markdown",
   "metadata": {},
   "source": [
    "##### SKLEARN_ALLOW_DEPRECATED_SKLEARN_PACKAGE_INSTALL=True pip install mlrose"
   ]
  },
  {
   "cell_type": "code",
   "execution_count": null,
   "metadata": {},
   "outputs": [],
   "source": [
    "import six\n",
    "import sys\n",
    "sys.modules['sklearn.externals.six'] = six\n",
    "import mlrose"
   ]
  },
  {
   "cell_type": "code",
   "execution_count": null,
   "metadata": {},
   "outputs": [],
   "source": [
    "dataset_original = pd.read_csv('acoes.csv')\n",
    "dinheiro_total  = 5000\n",
    "sem_risco = taxa_selic_historico.mean() / 100"
   ]
  },
  {
   "cell_type": "code",
   "execution_count": null,
   "metadata": {},
   "outputs": [],
   "source": [
    "def fitness_function(solucao):\n",
    "    dataset = dataset_original.copy()\n",
    "    pesos = solucao / solucao.sum()\n",
    "\n",
    "    colunas = dataset.columns\n",
    "    for i in colunas[1:]:\n",
    "        dataset[i] = dataset[i] / dataset[i][0]\n",
    "\n",
    "    for i, acao in enumerate(dataset.columns[1:]):\n",
    "        dataset[acao] = dataset[acao] * pesos[i] * dinheiro_total\n",
    "\n",
    "    dataset.drop(labels = ['Date'], axis = 1, inplace=True)\n",
    "    dataset['soma valor'] = dataset.sum(axis = 1)\n",
    "    dataset['taxa retorno'] = 0.0\n",
    "\n",
    "    for i in range(1, len(dataset)):\n",
    "        dataset['taxa retorno'][i] = np.log(dataset['soma valor'][i] / dataset['soma valor'][i - 1]) * 100    \n",
    "\n",
    "    sharpe_ratio = (dataset['taxa retorno'].mean() - sem_risco) / dataset['taxa retorno'].std() * np.sqrt(246)\n",
    "\n",
    "    return sharpe_ratio"
   ]
  },
  {
   "cell_type": "code",
   "execution_count": null,
   "metadata": {},
   "outputs": [],
   "source": [
    "np.random.seed(10)\n",
    "pesos = np.random.random(len(dataset_original.columns) - 1)\n",
    "pesos = pesos / pesos.sum()\n",
    "pesos\n"
   ]
  },
  {
   "cell_type": "code",
   "execution_count": null,
   "metadata": {},
   "outputs": [],
   "source": [
    "fitness_function(pesos)"
   ]
  },
  {
   "cell_type": "code",
   "execution_count": null,
   "metadata": {},
   "outputs": [],
   "source": [
    "def visualiza_alocacao(solucao):\n",
    "    colunas = dataset_original.columns[1:]\n",
    "    for i in range(len(solucao)):\n",
    "        print(colunas[i], solucao[i] * 100)"
   ]
  },
  {
   "cell_type": "code",
   "execution_count": null,
   "metadata": {},
   "outputs": [],
   "source": [
    "visualiza_alocacao(pesos)"
   ]
  },
  {
   "cell_type": "code",
   "execution_count": null,
   "metadata": {},
   "outputs": [],
   "source": []
  },
  {
   "cell_type": "markdown",
   "metadata": {},
   "source": [
    "### Hill climb"
   ]
  },
  {
   "cell_type": "markdown",
   "metadata": {},
   "source": [
    "### Simulated aneeling"
   ]
  },
  {
   "cell_type": "markdown",
   "metadata": {},
   "source": [
    "### Algoritmo genético"
   ]
  },
  {
   "cell_type": "markdown",
   "metadata": {},
   "source": []
  }
 ],
 "metadata": {
  "kernelspec": {
   "display_name": "Python 3",
   "language": "python",
   "name": "python3"
  },
  "language_info": {
   "codemirror_mode": {
    "name": "ipython",
    "version": 3
   },
   "file_extension": ".py",
   "mimetype": "text/x-python",
   "name": "python",
   "nbconvert_exporter": "python",
   "pygments_lexer": "ipython3",
   "version": "3.13.2"
  }
 },
 "nbformat": 4,
 "nbformat_minor": 2
}
