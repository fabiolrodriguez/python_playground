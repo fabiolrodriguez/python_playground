{
 "cells": [
  {
   "cell_type": "markdown",
   "metadata": {},
   "source": [
    "# Lendo dados do mercado de Cripto"
   ]
  },
  {
   "cell_type": "code",
   "execution_count": 1,
   "metadata": {},
   "outputs": [],
   "source": [
    "import requests\n",
    "import pandas as pd \n",
    "import time\n",
    "import datetime\n",
    "import os\n",
    "from dotenv import load_dotenv"
   ]
  },
  {
   "cell_type": "code",
   "execution_count": 17,
   "metadata": {},
   "outputs": [],
   "source": [
    "load_dotenv()\n",
    "API_KEY = os.getenv(\"API_KEY\")\n",
    "headers = {\"x-cg-demo-api-key\": API_KEY}"
   ]
  },
  {
   "cell_type": "code",
   "execution_count": 26,
   "metadata": {},
   "outputs": [],
   "source": [
    "criptos = [\"bitcoin\", \"ethereum\", \"solana\"]\n",
    "params = {\n",
    "    \"vs_currency\": \"usd\",\n",
    "    \"days\": 365\n",
    "}"
   ]
  },
  {
   "cell_type": "code",
   "execution_count": 27,
   "metadata": {},
   "outputs": [
    {
     "name": "stdout",
     "output_type": "stream",
     "text": [
      "bitcoin\n",
      "ethereum\n",
      "solana\n"
     ]
    }
   ],
   "source": [
    "tabelas = []\n",
    "\n",
    "for cripto in criptos:\n",
    "    url = f\"https://api.coingecko.com/api/v3/coins/{cripto}/market_chart\"\n",
    "    requisicao = requests.get(url, params = params, headers = headers)\n",
    "    dados = requisicao.json()\n",
    "    print(cripto)\n",
    "    df_dados = pd.DataFrame(dados[\"prices\"], columns= [\"data\", \"price\"])\n",
    "    \n",
    "    df_volume = pd.DataFrame(dados[\"total_volumes\"], columns= [\"data\", \"volume\"])\n",
    "    df_final = df_dados.merge(df_volume, on = 'data')\n",
    "    df_final[\"data\"] = pd.to_datetime(df_final[\"data\"], unit = \"ms\")\n",
    "    df_final[\"cripto\"] = cripto\n",
    "    tabelas.append(df_final)"
   ]
  },
  {
   "cell_type": "markdown",
   "metadata": {},
   "source": [
    "## Dados OHLC"
   ]
  },
  {
   "cell_type": "code",
   "execution_count": 36,
   "metadata": {},
   "outputs": [],
   "source": [
    "params = {\n",
    "    \"vs_currency\": \"usd\",\n",
    "    \"days\": 1\n",
    "}"
   ]
  },
  {
   "cell_type": "markdown",
   "metadata": {},
   "source": [
    "##"
   ]
  },
  {
   "cell_type": "code",
   "execution_count": 39,
   "metadata": {},
   "outputs": [],
   "source": [
    "tabelas = []\n",
    "\n",
    "for cripto in criptos:\n",
    "    print(cripto)\n",
    "    url = f\"https://api.coingecko.com/api/v3/coins/{cripto}/ohlc\"\n",
    "    requisicao = requests.get(url, params = params, headers = headers)\n",
    "    dados = requisicao.json()\n",
    "    df = pd.DataFrame(dados, columns= ['timestamp', 'open', \"high\", \"low\", \"close\"])\n",
    "    df['timestamp'] = pd.to_datetime(df['timestamp'], unit='ms')\n",
    "    df['crypto'] = cripto\n",
    "    tabelas.append(df)"
   ]
  },
  {
   "cell_type": "code",
   "execution_count": 38,
   "metadata": {},
   "outputs": [
    {
     "data": {
      "text/html": [
       "<div>\n",
       "<style scoped>\n",
       "    .dataframe tbody tr th:only-of-type {\n",
       "        vertical-align: middle;\n",
       "    }\n",
       "\n",
       "    .dataframe tbody tr th {\n",
       "        vertical-align: top;\n",
       "    }\n",
       "\n",
       "    .dataframe thead th {\n",
       "        text-align: right;\n",
       "    }\n",
       "</style>\n",
       "<table border=\"1\" class=\"dataframe\">\n",
       "  <thead>\n",
       "    <tr style=\"text-align: right;\">\n",
       "      <th></th>\n",
       "      <th>timestamp</th>\n",
       "      <th>open</th>\n",
       "      <th>high</th>\n",
       "      <th>low</th>\n",
       "      <th>close</th>\n",
       "      <th>crypto</th>\n",
       "    </tr>\n",
       "  </thead>\n",
       "  <tbody>\n",
       "  </tbody>\n",
       "</table>\n",
       "</div>"
      ],
      "text/plain": [
       "Empty DataFrame\n",
       "Columns: [timestamp, open, high, low, close, crypto]\n",
       "Index: []"
      ]
     },
     "execution_count": 38,
     "metadata": {},
     "output_type": "execute_result"
    }
   ],
   "source": [
    "dados_ohlc = pd.concat(tabelas)\n",
    "dados_ohlc"
   ]
  },
  {
   "cell_type": "code",
   "execution_count": null,
   "metadata": {},
   "outputs": [],
   "source": []
  }
 ],
 "metadata": {
  "kernelspec": {
   "display_name": "Python 3",
   "language": "python",
   "name": "python3"
  },
  "language_info": {
   "codemirror_mode": {
    "name": "ipython",
    "version": 3
   },
   "file_extension": ".py",
   "mimetype": "text/x-python",
   "name": "python",
   "nbconvert_exporter": "python",
   "pygments_lexer": "ipython3",
   "version": "3.13.1"
  }
 },
 "nbformat": 4,
 "nbformat_minor": 2
}
