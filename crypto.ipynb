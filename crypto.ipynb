{
 "cells": [
  {
   "cell_type": "markdown",
   "metadata": {},
   "source": [
    "# Lendo dados do mercado de Cripto"
   ]
  },
  {
   "cell_type": "code",
   "execution_count": 1,
   "metadata": {},
   "outputs": [],
   "source": [
    "import requests\n",
    "import pandas as pd \n",
    "import time\n",
    "import datetime\n",
    "import os\n",
    "from dotenv import load_dotenv"
   ]
  },
  {
   "cell_type": "code",
   "execution_count": 17,
   "metadata": {},
   "outputs": [],
   "source": [
    "load_dotenv()\n",
    "API_KEY = os.getenv(\"API_KEY\")\n",
    "headers = {\"x-cg-demo-api-key\": API_KEY}"
   ]
  },
  {
   "cell_type": "code",
   "execution_count": 26,
   "metadata": {},
   "outputs": [],
   "source": [
    "criptos = [\"bitcoin\", \"ethereum\", \"solana\"]\n",
    "params = {\n",
    "    \"vs_currency\": \"usd\",\n",
    "    \"days\": 365\n",
    "}"
   ]
  },
  {
   "cell_type": "code",
   "execution_count": 27,
   "metadata": {},
   "outputs": [
    {
     "name": "stdout",
     "output_type": "stream",
     "text": [
      "bitcoin\n",
      "ethereum\n",
      "solana\n"
     ]
    }
   ],
   "source": [
    "tabelas = []\n",
    "\n",
    "for cripto in criptos:\n",
    "    url = f\"https://api.coingecko.com/api/v3/coins/{cripto}/market_chart\"\n",
    "    requisicao = requests.get(url, params = params, headers = headers)\n",
    "    dados = requisicao.json()\n",
    "    print(cripto)\n",
    "    df_dados = pd.DataFrame(dados[\"prices\"], columns= [\"data\", \"price\"])\n",
    "    \n",
    "    df_volume = pd.DataFrame(dados[\"total_volumes\"], columns= [\"data\", \"volume\"])\n",
    "    df_final = df_dados.merge(df_volume, on = 'data')\n",
    "    df_final[\"data\"] = pd.to_datetime(df_final[\"data\"], unit = \"ms\")\n",
    "    df_final[\"cripto\"] = cripto\n",
    "    tabelas.append(df_final)"
   ]
  },
  {
   "cell_type": "markdown",
   "metadata": {},
   "source": [
    "## Dados OHLC"
   ]
  },
  {
   "cell_type": "code",
   "execution_count": 36,
   "metadata": {},
   "outputs": [],
   "source": [
    "params = {\n",
    "    \"vs_currency\": \"usd\",\n",
    "    \"days\": 1\n",
    "}"
   ]
  },
  {
   "cell_type": "markdown",
   "metadata": {},
   "source": [
    "##"
   ]
  },
  {
   "cell_type": "code",
   "execution_count": 40,
   "metadata": {},
   "outputs": [
    {
     "name": "stdout",
     "output_type": "stream",
     "text": [
      "bitcoin\n",
      "ethereum\n",
      "solana\n"
     ]
    }
   ],
   "source": [
    "tabelas = []\n",
    "\n",
    "for cripto in criptos:\n",
    "    print(cripto)\n",
    "    url = f\"https://api.coingecko.com/api/v3/coins/{cripto}/ohlc\"\n",
    "    requisicao = requests.get(url, params = params, headers = headers)\n",
    "    dados = requisicao.json()\n",
    "    df = pd.DataFrame(dados, columns= ['timestamp', 'open', \"high\", \"low\", \"close\"])\n",
    "    df['timestamp'] = pd.to_datetime(df['timestamp'], unit='ms')\n",
    "    df['crypto'] = cripto\n",
    "    tabelas.append(df)"
   ]
  },
  {
   "cell_type": "code",
   "execution_count": 41,
   "metadata": {},
   "outputs": [
    {
     "data": {
      "text/html": [
       "<div>\n",
       "<style scoped>\n",
       "    .dataframe tbody tr th:only-of-type {\n",
       "        vertical-align: middle;\n",
       "    }\n",
       "\n",
       "    .dataframe tbody tr th {\n",
       "        vertical-align: top;\n",
       "    }\n",
       "\n",
       "    .dataframe thead th {\n",
       "        text-align: right;\n",
       "    }\n",
       "</style>\n",
       "<table border=\"1\" class=\"dataframe\">\n",
       "  <thead>\n",
       "    <tr style=\"text-align: right;\">\n",
       "      <th></th>\n",
       "      <th>timestamp</th>\n",
       "      <th>open</th>\n",
       "      <th>high</th>\n",
       "      <th>low</th>\n",
       "      <th>close</th>\n",
       "      <th>crypto</th>\n",
       "    </tr>\n",
       "  </thead>\n",
       "  <tbody>\n",
       "    <tr>\n",
       "      <th>0</th>\n",
       "      <td>2025-01-30 00:00:00</td>\n",
       "      <td>104184.00</td>\n",
       "      <td>104184.00</td>\n",
       "      <td>103719.00</td>\n",
       "      <td>103719.00</td>\n",
       "      <td>bitcoin</td>\n",
       "    </tr>\n",
       "    <tr>\n",
       "      <th>1</th>\n",
       "      <td>2025-01-30 00:30:00</td>\n",
       "      <td>103716.00</td>\n",
       "      <td>103716.00</td>\n",
       "      <td>103516.00</td>\n",
       "      <td>103592.00</td>\n",
       "      <td>bitcoin</td>\n",
       "    </tr>\n",
       "    <tr>\n",
       "      <th>2</th>\n",
       "      <td>2025-01-30 01:00:00</td>\n",
       "      <td>103579.00</td>\n",
       "      <td>104106.00</td>\n",
       "      <td>103388.00</td>\n",
       "      <td>104106.00</td>\n",
       "      <td>bitcoin</td>\n",
       "    </tr>\n",
       "    <tr>\n",
       "      <th>3</th>\n",
       "      <td>2025-01-30 01:30:00</td>\n",
       "      <td>103978.00</td>\n",
       "      <td>104294.00</td>\n",
       "      <td>103978.00</td>\n",
       "      <td>104294.00</td>\n",
       "      <td>bitcoin</td>\n",
       "    </tr>\n",
       "    <tr>\n",
       "      <th>4</th>\n",
       "      <td>2025-01-30 02:00:00</td>\n",
       "      <td>104475.00</td>\n",
       "      <td>104475.00</td>\n",
       "      <td>104204.00</td>\n",
       "      <td>104289.00</td>\n",
       "      <td>bitcoin</td>\n",
       "    </tr>\n",
       "    <tr>\n",
       "      <th>...</th>\n",
       "      <td>...</td>\n",
       "      <td>...</td>\n",
       "      <td>...</td>\n",
       "      <td>...</td>\n",
       "      <td>...</td>\n",
       "      <td>...</td>\n",
       "    </tr>\n",
       "    <tr>\n",
       "      <th>43</th>\n",
       "      <td>2025-01-30 22:00:00</td>\n",
       "      <td>239.87</td>\n",
       "      <td>240.31</td>\n",
       "      <td>239.85</td>\n",
       "      <td>240.31</td>\n",
       "      <td>solana</td>\n",
       "    </tr>\n",
       "    <tr>\n",
       "      <th>44</th>\n",
       "      <td>2025-01-30 22:30:00</td>\n",
       "      <td>240.23</td>\n",
       "      <td>240.26</td>\n",
       "      <td>240.08</td>\n",
       "      <td>240.16</td>\n",
       "      <td>solana</td>\n",
       "    </tr>\n",
       "    <tr>\n",
       "      <th>45</th>\n",
       "      <td>2025-01-30 23:00:00</td>\n",
       "      <td>240.42</td>\n",
       "      <td>241.39</td>\n",
       "      <td>240.42</td>\n",
       "      <td>240.72</td>\n",
       "      <td>solana</td>\n",
       "    </tr>\n",
       "    <tr>\n",
       "      <th>46</th>\n",
       "      <td>2025-01-30 23:30:00</td>\n",
       "      <td>240.35</td>\n",
       "      <td>240.62</td>\n",
       "      <td>240.10</td>\n",
       "      <td>240.60</td>\n",
       "      <td>solana</td>\n",
       "    </tr>\n",
       "    <tr>\n",
       "      <th>47</th>\n",
       "      <td>2025-01-31 00:00:00</td>\n",
       "      <td>240.49</td>\n",
       "      <td>240.49</td>\n",
       "      <td>239.05</td>\n",
       "      <td>239.05</td>\n",
       "      <td>solana</td>\n",
       "    </tr>\n",
       "  </tbody>\n",
       "</table>\n",
       "<p>144 rows × 6 columns</p>\n",
       "</div>"
      ],
      "text/plain": [
       "             timestamp       open       high        low      close   crypto\n",
       "0  2025-01-30 00:00:00  104184.00  104184.00  103719.00  103719.00  bitcoin\n",
       "1  2025-01-30 00:30:00  103716.00  103716.00  103516.00  103592.00  bitcoin\n",
       "2  2025-01-30 01:00:00  103579.00  104106.00  103388.00  104106.00  bitcoin\n",
       "3  2025-01-30 01:30:00  103978.00  104294.00  103978.00  104294.00  bitcoin\n",
       "4  2025-01-30 02:00:00  104475.00  104475.00  104204.00  104289.00  bitcoin\n",
       "..                 ...        ...        ...        ...        ...      ...\n",
       "43 2025-01-30 22:00:00     239.87     240.31     239.85     240.31   solana\n",
       "44 2025-01-30 22:30:00     240.23     240.26     240.08     240.16   solana\n",
       "45 2025-01-30 23:00:00     240.42     241.39     240.42     240.72   solana\n",
       "46 2025-01-30 23:30:00     240.35     240.62     240.10     240.60   solana\n",
       "47 2025-01-31 00:00:00     240.49     240.49     239.05     239.05   solana\n",
       "\n",
       "[144 rows x 6 columns]"
      ]
     },
     "execution_count": 41,
     "metadata": {},
     "output_type": "execute_result"
    }
   ],
   "source": [
    "dados_ohlc = pd.concat(tabelas)\n",
    "dados_ohlc"
   ]
  },
  {
   "cell_type": "code",
   "execution_count": null,
   "metadata": {},
   "outputs": [],
   "source": []
  }
 ],
 "metadata": {
  "kernelspec": {
   "display_name": "Python 3",
   "language": "python",
   "name": "python3"
  },
  "language_info": {
   "codemirror_mode": {
    "name": "ipython",
    "version": 3
   },
   "file_extension": ".py",
   "mimetype": "text/x-python",
   "name": "python",
   "nbconvert_exporter": "python",
   "pygments_lexer": "ipython3",
   "version": "3.13.1"
  }
 },
 "nbformat": 4,
 "nbformat_minor": 2
}
