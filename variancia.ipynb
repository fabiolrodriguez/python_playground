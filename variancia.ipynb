{
 "cells": [
  {
   "cell_type": "markdown",
   "metadata": {},
   "source": [
    "# Variância"
   ]
  },
  {
   "cell_type": "code",
   "execution_count": 1,
   "metadata": {},
   "outputs": [],
   "source": [
    "import pandas as pd\n",
    "import numpy as np\n",
    "import math\n",
    "import matplotlib.pyplot as plt\n",
    "import seaborn as sns\n",
    "from scipy import stats"
   ]
  },
  {
   "cell_type": "code",
   "execution_count": 2,
   "metadata": {},
   "outputs": [
    {
     "data": {
      "text/html": [
       "<div>\n",
       "<style scoped>\n",
       "    .dataframe tbody tr th:only-of-type {\n",
       "        vertical-align: middle;\n",
       "    }\n",
       "\n",
       "    .dataframe tbody tr th {\n",
       "        vertical-align: top;\n",
       "    }\n",
       "\n",
       "    .dataframe thead th {\n",
       "        text-align: right;\n",
       "    }\n",
       "</style>\n",
       "<table border=\"1\" class=\"dataframe\">\n",
       "  <thead>\n",
       "    <tr style=\"text-align: right;\">\n",
       "      <th></th>\n",
       "      <th>Date</th>\n",
       "      <th>GOL</th>\n",
       "      <th>CVC</th>\n",
       "      <th>WEG</th>\n",
       "      <th>MGLU</th>\n",
       "      <th>TOTVS</th>\n",
       "      <th>IBOV</th>\n",
       "    </tr>\n",
       "  </thead>\n",
       "  <tbody>\n",
       "    <tr>\n",
       "      <th>0</th>\n",
       "      <td>2015-01-02</td>\n",
       "      <td>14.99</td>\n",
       "      <td>11.164607</td>\n",
       "      <td>4.988705</td>\n",
       "      <td>2.058074</td>\n",
       "      <td>10.155536</td>\n",
       "      <td>47.259998</td>\n",
       "    </tr>\n",
       "    <tr>\n",
       "      <th>1</th>\n",
       "      <td>2015-01-05</td>\n",
       "      <td>14.85</td>\n",
       "      <td>11.017703</td>\n",
       "      <td>5.022718</td>\n",
       "      <td>2.096750</td>\n",
       "      <td>9.843493</td>\n",
       "      <td>46.320000</td>\n",
       "    </tr>\n",
       "    <tr>\n",
       "      <th>2</th>\n",
       "      <td>2015-01-06</td>\n",
       "      <td>15.21</td>\n",
       "      <td>10.870803</td>\n",
       "      <td>4.948212</td>\n",
       "      <td>2.069124</td>\n",
       "      <td>9.227921</td>\n",
       "      <td>46.580002</td>\n",
       "    </tr>\n",
       "    <tr>\n",
       "      <th>3</th>\n",
       "      <td>2015-01-07</td>\n",
       "      <td>14.55</td>\n",
       "      <td>10.775316</td>\n",
       "      <td>4.891521</td>\n",
       "      <td>2.138187</td>\n",
       "      <td>9.162673</td>\n",
       "      <td>48.150002</td>\n",
       "    </tr>\n",
       "    <tr>\n",
       "      <th>4</th>\n",
       "      <td>2015-01-08</td>\n",
       "      <td>14.27</td>\n",
       "      <td>10.393366</td>\n",
       "      <td>4.974128</td>\n",
       "      <td>2.121612</td>\n",
       "      <td>9.375432</td>\n",
       "      <td>48.509998</td>\n",
       "    </tr>\n",
       "    <tr>\n",
       "      <th>...</th>\n",
       "      <td>...</td>\n",
       "      <td>...</td>\n",
       "      <td>...</td>\n",
       "      <td>...</td>\n",
       "      <td>...</td>\n",
       "      <td>...</td>\n",
       "      <td>...</td>\n",
       "    </tr>\n",
       "    <tr>\n",
       "      <th>2477</th>\n",
       "      <td>2025-01-27</td>\n",
       "      <td>1.71</td>\n",
       "      <td>1.860000</td>\n",
       "      <td>53.310001</td>\n",
       "      <td>7.010000</td>\n",
       "      <td>31.209999</td>\n",
       "      <td>121.870003</td>\n",
       "    </tr>\n",
       "    <tr>\n",
       "      <th>2478</th>\n",
       "      <td>2025-01-28</td>\n",
       "      <td>1.71</td>\n",
       "      <td>1.770000</td>\n",
       "      <td>54.090000</td>\n",
       "      <td>6.760000</td>\n",
       "      <td>30.790001</td>\n",
       "      <td>121.029999</td>\n",
       "    </tr>\n",
       "    <tr>\n",
       "      <th>2479</th>\n",
       "      <td>2025-01-29</td>\n",
       "      <td>1.69</td>\n",
       "      <td>1.800000</td>\n",
       "      <td>54.430000</td>\n",
       "      <td>6.590000</td>\n",
       "      <td>31.150000</td>\n",
       "      <td>120.169998</td>\n",
       "    </tr>\n",
       "    <tr>\n",
       "      <th>2480</th>\n",
       "      <td>2025-01-30</td>\n",
       "      <td>1.70</td>\n",
       "      <td>1.950000</td>\n",
       "      <td>56.209999</td>\n",
       "      <td>7.270000</td>\n",
       "      <td>32.610001</td>\n",
       "      <td>123.949997</td>\n",
       "    </tr>\n",
       "    <tr>\n",
       "      <th>2481</th>\n",
       "      <td>2025-01-31</td>\n",
       "      <td>1.70</td>\n",
       "      <td>1.970000</td>\n",
       "      <td>55.040001</td>\n",
       "      <td>7.460000</td>\n",
       "      <td>34.060001</td>\n",
       "      <td>123.000000</td>\n",
       "    </tr>\n",
       "  </tbody>\n",
       "</table>\n",
       "<p>2482 rows × 7 columns</p>\n",
       "</div>"
      ],
      "text/plain": [
       "            Date    GOL        CVC        WEG      MGLU      TOTVS        IBOV\n",
       "0     2015-01-02  14.99  11.164607   4.988705  2.058074  10.155536   47.259998\n",
       "1     2015-01-05  14.85  11.017703   5.022718  2.096750   9.843493   46.320000\n",
       "2     2015-01-06  15.21  10.870803   4.948212  2.069124   9.227921   46.580002\n",
       "3     2015-01-07  14.55  10.775316   4.891521  2.138187   9.162673   48.150002\n",
       "4     2015-01-08  14.27  10.393366   4.974128  2.121612   9.375432   48.509998\n",
       "...          ...    ...        ...        ...       ...        ...         ...\n",
       "2477  2025-01-27   1.71   1.860000  53.310001  7.010000  31.209999  121.870003\n",
       "2478  2025-01-28   1.71   1.770000  54.090000  6.760000  30.790001  121.029999\n",
       "2479  2025-01-29   1.69   1.800000  54.430000  6.590000  31.150000  120.169998\n",
       "2480  2025-01-30   1.70   1.950000  56.209999  7.270000  32.610001  123.949997\n",
       "2481  2025-01-31   1.70   1.970000  55.040001  7.460000  34.060001  123.000000\n",
       "\n",
       "[2482 rows x 7 columns]"
      ]
     },
     "execution_count": 2,
     "metadata": {},
     "output_type": "execute_result"
    }
   ],
   "source": [
    "dataset = pd.read_csv('acoes.csv')\n",
    "dataset"
   ]
  },
  {
   "cell_type": "code",
   "execution_count": 3,
   "metadata": {},
   "outputs": [],
   "source": [
    "taxas_cvc = np.array([-11.86, 63.73, 74.52, 20.42, -33.29, -128.06])"
   ]
  },
  {
   "cell_type": "code",
   "execution_count": 4,
   "metadata": {},
   "outputs": [
    {
     "data": {
      "text/plain": [
       "np.float64(-2.423333333333332)"
      ]
     },
     "execution_count": 4,
     "metadata": {},
     "output_type": "execute_result"
    }
   ],
   "source": [
    "media_cvc = taxas_cvc.sum() / len(taxas_cvc)\n",
    "media_cvc"
   ]
  },
  {
   "cell_type": "code",
   "execution_count": 5,
   "metadata": {},
   "outputs": [
    {
     "data": {
      "text/plain": [
       "np.float64(4607.455288888889)"
      ]
     },
     "execution_count": 5,
     "metadata": {},
     "output_type": "execute_result"
    }
   ],
   "source": [
    "((taxas_cvc - media_cvc) ** 2).sum() / len(taxas_cvc)"
   ]
  },
  {
   "cell_type": "code",
   "execution_count": 6,
   "metadata": {},
   "outputs": [
    {
     "data": {
      "text/plain": [
       "np.float64(-2.423333333333332)"
      ]
     },
     "execution_count": 6,
     "metadata": {},
     "output_type": "execute_result"
    }
   ],
   "source": [
    "media_cvc = taxas_cvc.mean()\n",
    "media_cvc"
   ]
  },
  {
   "cell_type": "code",
   "execution_count": 7,
   "metadata": {},
   "outputs": [
    {
     "data": {
      "text/plain": [
       "np.float64(4607.455288888889)"
      ]
     },
     "execution_count": 7,
     "metadata": {},
     "output_type": "execute_result"
    }
   ],
   "source": [
    "variancia_cvc = taxas_cvc.var()\n",
    "variancia_cvc"
   ]
  },
  {
   "cell_type": "code",
   "execution_count": 8,
   "metadata": {},
   "outputs": [
    {
     "data": {
      "text/plain": [
       "np.float64(11160.033122222221)"
      ]
     },
     "execution_count": 8,
     "metadata": {},
     "output_type": "execute_result"
    }
   ],
   "source": [
    "taxas_mglu = np.array([-135.37, 176.76, 185.78, 82.74, 71.86, 71.87])\n",
    "variancia_mglu = taxas_mglu.var()\n",
    "variancia_mglu"
   ]
  },
  {
   "cell_type": "markdown",
   "metadata": {},
   "source": [
    "### Calculando a variância baseada no preço por período"
   ]
  },
  {
   "cell_type": "code",
   "execution_count": 9,
   "metadata": {},
   "outputs": [
    {
     "data": {
      "text/plain": [
       "(np.float64(0.43134472373142413), np.float64(21.33824753324378))"
      ]
     },
     "execution_count": 9,
     "metadata": {},
     "output_type": "execute_result"
    }
   ],
   "source": [
    "dataset['CVC'].tail(330).var(), dataset['MGLU'].tail(330).var()"
   ]
  },
  {
   "cell_type": "markdown",
   "metadata": {},
   "source": [
    "## Desvio Padrão"
   ]
  },
  {
   "cell_type": "code",
   "execution_count": 10,
   "metadata": {},
   "outputs": [
    {
     "data": {
      "text/plain": [
       "67.87823869907712"
      ]
     },
     "execution_count": 10,
     "metadata": {},
     "output_type": "execute_result"
    }
   ],
   "source": [
    "desvio_cvc = math.sqrt(variancia_cvc)\n",
    "desvio_cvc"
   ]
  },
  {
   "cell_type": "code",
   "execution_count": 11,
   "metadata": {},
   "outputs": [
    {
     "data": {
      "text/plain": [
       "105.6410579378218"
      ]
     },
     "execution_count": 11,
     "metadata": {},
     "output_type": "execute_result"
    }
   ],
   "source": [
    "desvio_mglu = math.sqrt(variancia_mglu)\n",
    "desvio_mglu"
   ]
  },
  {
   "cell_type": "code",
   "execution_count": 12,
   "metadata": {},
   "outputs": [
    {
     "data": {
      "text/plain": [
       "np.float64(67.87823869907712)"
      ]
     },
     "execution_count": 12,
     "metadata": {},
     "output_type": "execute_result"
    }
   ],
   "source": [
    "taxas_cvc.std()"
   ]
  },
  {
   "cell_type": "code",
   "execution_count": 13,
   "metadata": {},
   "outputs": [
    {
     "data": {
      "text/plain": [
       "np.float64(105.6410579378218)"
      ]
     },
     "execution_count": 13,
     "metadata": {},
     "output_type": "execute_result"
    }
   ],
   "source": [
    "taxas_mglu.std()"
   ]
  },
  {
   "cell_type": "code",
   "execution_count": 14,
   "metadata": {},
   "outputs": [
    {
     "data": {
      "text/plain": [
       "(np.float64(0.6567683942847921), np.float64(4.619334100630066))"
      ]
     },
     "execution_count": 14,
     "metadata": {},
     "output_type": "execute_result"
    }
   ],
   "source": [
    "dataset['CVC'].tail(330).std(), dataset['MGLU'].tail(330).std()"
   ]
  },
  {
   "cell_type": "markdown",
   "metadata": {},
   "source": [
    "## Coeficiente de variação"
   ]
  },
  {
   "cell_type": "code",
   "execution_count": 15,
   "metadata": {},
   "outputs": [
    {
     "data": {
      "text/plain": [
       "(67.87823869907712, np.float64(-2.423333333333332))"
      ]
     },
     "execution_count": 15,
     "metadata": {},
     "output_type": "execute_result"
    }
   ],
   "source": [
    "desvio_cvc, media_cvc"
   ]
  },
  {
   "cell_type": "code",
   "execution_count": 16,
   "metadata": {},
   "outputs": [
    {
     "data": {
      "text/plain": [
       "np.float64(-2801.0277317363334)"
      ]
     },
     "execution_count": 16,
     "metadata": {},
     "output_type": "execute_result"
    }
   ],
   "source": [
    "coeficiente_variacao_cvc = (desvio_cvc / media_cvc) * 100\n",
    "coeficiente_variacao_cvc"
   ]
  },
  {
   "cell_type": "code",
   "execution_count": 17,
   "metadata": {},
   "outputs": [
    {
     "data": {
      "text/plain": [
       "np.float64(-2801.0277317363334)"
      ]
     },
     "execution_count": 17,
     "metadata": {},
     "output_type": "execute_result"
    }
   ],
   "source": [
    "stats.variation(taxas_cvc) * 100"
   ]
  },
  {
   "cell_type": "code",
   "execution_count": 18,
   "metadata": {},
   "outputs": [
    {
     "data": {
      "text/plain": [
       "np.float64(139.72452773717723)"
      ]
     },
     "execution_count": 18,
     "metadata": {},
     "output_type": "execute_result"
    }
   ],
   "source": [
    "stats.variation(taxas_mglu) * 100"
   ]
  },
  {
   "cell_type": "markdown",
   "metadata": {},
   "source": [
    "## Calculos com todas as ações"
   ]
  },
  {
   "cell_type": "code",
   "execution_count": 19,
   "metadata": {},
   "outputs": [
    {
     "data": {
      "text/html": [
       "<div>\n",
       "<style scoped>\n",
       "    .dataframe tbody tr th:only-of-type {\n",
       "        vertical-align: middle;\n",
       "    }\n",
       "\n",
       "    .dataframe tbody tr th {\n",
       "        vertical-align: top;\n",
       "    }\n",
       "\n",
       "    .dataframe thead th {\n",
       "        text-align: right;\n",
       "    }\n",
       "</style>\n",
       "<table border=\"1\" class=\"dataframe\">\n",
       "  <thead>\n",
       "    <tr style=\"text-align: right;\">\n",
       "      <th></th>\n",
       "      <th>GOL</th>\n",
       "      <th>CVC</th>\n",
       "      <th>WEG</th>\n",
       "      <th>MGLU</th>\n",
       "      <th>TOTVS</th>\n",
       "      <th>IBOV</th>\n",
       "    </tr>\n",
       "  </thead>\n",
       "  <tbody>\n",
       "    <tr>\n",
       "      <th>0</th>\n",
       "      <td>14.99</td>\n",
       "      <td>11.164607</td>\n",
       "      <td>4.988705</td>\n",
       "      <td>2.058074</td>\n",
       "      <td>10.155536</td>\n",
       "      <td>47.259998</td>\n",
       "    </tr>\n",
       "    <tr>\n",
       "      <th>1</th>\n",
       "      <td>14.85</td>\n",
       "      <td>11.017703</td>\n",
       "      <td>5.022718</td>\n",
       "      <td>2.096750</td>\n",
       "      <td>9.843493</td>\n",
       "      <td>46.320000</td>\n",
       "    </tr>\n",
       "    <tr>\n",
       "      <th>2</th>\n",
       "      <td>15.21</td>\n",
       "      <td>10.870803</td>\n",
       "      <td>4.948212</td>\n",
       "      <td>2.069124</td>\n",
       "      <td>9.227921</td>\n",
       "      <td>46.580002</td>\n",
       "    </tr>\n",
       "    <tr>\n",
       "      <th>3</th>\n",
       "      <td>14.55</td>\n",
       "      <td>10.775316</td>\n",
       "      <td>4.891521</td>\n",
       "      <td>2.138187</td>\n",
       "      <td>9.162673</td>\n",
       "      <td>48.150002</td>\n",
       "    </tr>\n",
       "    <tr>\n",
       "      <th>4</th>\n",
       "      <td>14.27</td>\n",
       "      <td>10.393366</td>\n",
       "      <td>4.974128</td>\n",
       "      <td>2.121612</td>\n",
       "      <td>9.375432</td>\n",
       "      <td>48.509998</td>\n",
       "    </tr>\n",
       "    <tr>\n",
       "      <th>...</th>\n",
       "      <td>...</td>\n",
       "      <td>...</td>\n",
       "      <td>...</td>\n",
       "      <td>...</td>\n",
       "      <td>...</td>\n",
       "      <td>...</td>\n",
       "    </tr>\n",
       "    <tr>\n",
       "      <th>2477</th>\n",
       "      <td>1.71</td>\n",
       "      <td>1.860000</td>\n",
       "      <td>53.310001</td>\n",
       "      <td>7.010000</td>\n",
       "      <td>31.209999</td>\n",
       "      <td>121.870003</td>\n",
       "    </tr>\n",
       "    <tr>\n",
       "      <th>2478</th>\n",
       "      <td>1.71</td>\n",
       "      <td>1.770000</td>\n",
       "      <td>54.090000</td>\n",
       "      <td>6.760000</td>\n",
       "      <td>30.790001</td>\n",
       "      <td>121.029999</td>\n",
       "    </tr>\n",
       "    <tr>\n",
       "      <th>2479</th>\n",
       "      <td>1.69</td>\n",
       "      <td>1.800000</td>\n",
       "      <td>54.430000</td>\n",
       "      <td>6.590000</td>\n",
       "      <td>31.150000</td>\n",
       "      <td>120.169998</td>\n",
       "    </tr>\n",
       "    <tr>\n",
       "      <th>2480</th>\n",
       "      <td>1.70</td>\n",
       "      <td>1.950000</td>\n",
       "      <td>56.209999</td>\n",
       "      <td>7.270000</td>\n",
       "      <td>32.610001</td>\n",
       "      <td>123.949997</td>\n",
       "    </tr>\n",
       "    <tr>\n",
       "      <th>2481</th>\n",
       "      <td>1.70</td>\n",
       "      <td>1.970000</td>\n",
       "      <td>55.040001</td>\n",
       "      <td>7.460000</td>\n",
       "      <td>34.060001</td>\n",
       "      <td>123.000000</td>\n",
       "    </tr>\n",
       "  </tbody>\n",
       "</table>\n",
       "<p>2482 rows × 6 columns</p>\n",
       "</div>"
      ],
      "text/plain": [
       "        GOL        CVC        WEG      MGLU      TOTVS        IBOV\n",
       "0     14.99  11.164607   4.988705  2.058074  10.155536   47.259998\n",
       "1     14.85  11.017703   5.022718  2.096750   9.843493   46.320000\n",
       "2     15.21  10.870803   4.948212  2.069124   9.227921   46.580002\n",
       "3     14.55  10.775316   4.891521  2.138187   9.162673   48.150002\n",
       "4     14.27  10.393366   4.974128  2.121612   9.375432   48.509998\n",
       "...     ...        ...        ...       ...        ...         ...\n",
       "2477   1.71   1.860000  53.310001  7.010000  31.209999  121.870003\n",
       "2478   1.71   1.770000  54.090000  6.760000  30.790001  121.029999\n",
       "2479   1.69   1.800000  54.430000  6.590000  31.150000  120.169998\n",
       "2480   1.70   1.950000  56.209999  7.270000  32.610001  123.949997\n",
       "2481   1.70   1.970000  55.040001  7.460000  34.060001  123.000000\n",
       "\n",
       "[2482 rows x 6 columns]"
      ]
     },
     "execution_count": 19,
     "metadata": {},
     "output_type": "execute_result"
    }
   ],
   "source": [
    "dataset.drop(labels = ['Date'], axis=1, inplace = True)\n",
    "dataset"
   ]
  },
  {
   "cell_type": "code",
   "execution_count": 20,
   "metadata": {},
   "outputs": [
    {
     "data": {
      "text/html": [
       "<div>\n",
       "<style scoped>\n",
       "    .dataframe tbody tr th:only-of-type {\n",
       "        vertical-align: middle;\n",
       "    }\n",
       "\n",
       "    .dataframe tbody tr th {\n",
       "        vertical-align: top;\n",
       "    }\n",
       "\n",
       "    .dataframe thead th {\n",
       "        text-align: right;\n",
       "    }\n",
       "</style>\n",
       "<table border=\"1\" class=\"dataframe\">\n",
       "  <thead>\n",
       "    <tr style=\"text-align: right;\">\n",
       "      <th></th>\n",
       "      <th>GOL</th>\n",
       "      <th>CVC</th>\n",
       "      <th>WEG</th>\n",
       "      <th>MGLU</th>\n",
       "      <th>TOTVS</th>\n",
       "      <th>IBOV</th>\n",
       "    </tr>\n",
       "  </thead>\n",
       "  <tbody>\n",
       "    <tr>\n",
       "      <th>0</th>\n",
       "      <td>NaN</td>\n",
       "      <td>NaN</td>\n",
       "      <td>NaN</td>\n",
       "      <td>NaN</td>\n",
       "      <td>NaN</td>\n",
       "      <td>NaN</td>\n",
       "    </tr>\n",
       "    <tr>\n",
       "      <th>1</th>\n",
       "      <td>-0.009340</td>\n",
       "      <td>-0.013158</td>\n",
       "      <td>0.006818</td>\n",
       "      <td>0.018792</td>\n",
       "      <td>-0.030726</td>\n",
       "      <td>-0.019890</td>\n",
       "    </tr>\n",
       "    <tr>\n",
       "      <th>2</th>\n",
       "      <td>0.024242</td>\n",
       "      <td>-0.013333</td>\n",
       "      <td>-0.014834</td>\n",
       "      <td>-0.013176</td>\n",
       "      <td>-0.062536</td>\n",
       "      <td>0.005613</td>\n",
       "    </tr>\n",
       "    <tr>\n",
       "      <th>3</th>\n",
       "      <td>-0.043392</td>\n",
       "      <td>-0.008784</td>\n",
       "      <td>-0.011457</td>\n",
       "      <td>0.033378</td>\n",
       "      <td>-0.007071</td>\n",
       "      <td>0.033705</td>\n",
       "    </tr>\n",
       "    <tr>\n",
       "      <th>4</th>\n",
       "      <td>-0.019244</td>\n",
       "      <td>-0.035447</td>\n",
       "      <td>0.016888</td>\n",
       "      <td>-0.007752</td>\n",
       "      <td>0.023220</td>\n",
       "      <td>0.007477</td>\n",
       "    </tr>\n",
       "    <tr>\n",
       "      <th>...</th>\n",
       "      <td>...</td>\n",
       "      <td>...</td>\n",
       "      <td>...</td>\n",
       "      <td>...</td>\n",
       "      <td>...</td>\n",
       "      <td>...</td>\n",
       "    </tr>\n",
       "    <tr>\n",
       "      <th>2477</th>\n",
       "      <td>0.000000</td>\n",
       "      <td>0.044944</td>\n",
       "      <td>-0.078797</td>\n",
       "      <td>0.100471</td>\n",
       "      <td>0.043464</td>\n",
       "      <td>0.020260</td>\n",
       "    </tr>\n",
       "    <tr>\n",
       "      <th>2478</th>\n",
       "      <td>0.000000</td>\n",
       "      <td>-0.048387</td>\n",
       "      <td>0.014631</td>\n",
       "      <td>-0.035663</td>\n",
       "      <td>-0.013457</td>\n",
       "      <td>-0.006893</td>\n",
       "    </tr>\n",
       "    <tr>\n",
       "      <th>2479</th>\n",
       "      <td>-0.011696</td>\n",
       "      <td>0.016949</td>\n",
       "      <td>0.006286</td>\n",
       "      <td>-0.025148</td>\n",
       "      <td>0.011692</td>\n",
       "      <td>-0.007106</td>\n",
       "    </tr>\n",
       "    <tr>\n",
       "      <th>2480</th>\n",
       "      <td>0.005917</td>\n",
       "      <td>0.083333</td>\n",
       "      <td>0.032703</td>\n",
       "      <td>0.103187</td>\n",
       "      <td>0.046870</td>\n",
       "      <td>0.031455</td>\n",
       "    </tr>\n",
       "    <tr>\n",
       "      <th>2481</th>\n",
       "      <td>0.000000</td>\n",
       "      <td>0.010256</td>\n",
       "      <td>-0.020815</td>\n",
       "      <td>0.026135</td>\n",
       "      <td>0.044465</td>\n",
       "      <td>-0.007664</td>\n",
       "    </tr>\n",
       "  </tbody>\n",
       "</table>\n",
       "<p>2482 rows × 6 columns</p>\n",
       "</div>"
      ],
      "text/plain": [
       "           GOL       CVC       WEG      MGLU     TOTVS      IBOV\n",
       "0          NaN       NaN       NaN       NaN       NaN       NaN\n",
       "1    -0.009340 -0.013158  0.006818  0.018792 -0.030726 -0.019890\n",
       "2     0.024242 -0.013333 -0.014834 -0.013176 -0.062536  0.005613\n",
       "3    -0.043392 -0.008784 -0.011457  0.033378 -0.007071  0.033705\n",
       "4    -0.019244 -0.035447  0.016888 -0.007752  0.023220  0.007477\n",
       "...        ...       ...       ...       ...       ...       ...\n",
       "2477  0.000000  0.044944 -0.078797  0.100471  0.043464  0.020260\n",
       "2478  0.000000 -0.048387  0.014631 -0.035663 -0.013457 -0.006893\n",
       "2479 -0.011696  0.016949  0.006286 -0.025148  0.011692 -0.007106\n",
       "2480  0.005917  0.083333  0.032703  0.103187  0.046870  0.031455\n",
       "2481  0.000000  0.010256 -0.020815  0.026135  0.044465 -0.007664\n",
       "\n",
       "[2482 rows x 6 columns]"
      ]
     },
     "execution_count": 20,
     "metadata": {},
     "output_type": "execute_result"
    }
   ],
   "source": [
    "taxas_retorno = ( dataset / dataset.shift(1)) - 1\n",
    "taxas_retorno"
   ]
  },
  {
   "cell_type": "markdown",
   "metadata": {},
   "source": [
    "### Desvio Padrão"
   ]
  },
  {
   "cell_type": "code",
   "execution_count": 21,
   "metadata": {},
   "outputs": [
    {
     "data": {
      "text/plain": [
       "GOL      4.808034\n",
       "CVC      3.924151\n",
       "WEG      2.117892\n",
       "MGLU     4.307800\n",
       "TOTVS    2.411075\n",
       "IBOV     1.534443\n",
       "dtype: float64"
      ]
     },
     "execution_count": 21,
     "metadata": {},
     "output_type": "execute_result"
    }
   ],
   "source": [
    "taxas_retorno.std() * 100"
   ]
  },
  {
   "cell_type": "code",
   "execution_count": 22,
   "metadata": {},
   "outputs": [
    {
     "data": {
      "text/plain": [
       "GOL      11.827764\n",
       "CVC       9.653412\n",
       "WEG       5.210015\n",
       "MGLU     10.597187\n",
       "TOTVS     5.931244\n",
       "IBOV      3.774730\n",
       "dtype: float64"
      ]
     },
     "execution_count": 22,
     "metadata": {},
     "output_type": "execute_result"
    }
   ],
   "source": [
    "taxas_retorno.std() * 246"
   ]
  },
  {
   "cell_type": "markdown",
   "metadata": {},
   "source": [
    "### Anualizar"
   ]
  },
  {
   "cell_type": "code",
   "execution_count": 23,
   "metadata": {},
   "outputs": [
    {
     "data": {
      "text/plain": [
       "GOL      0.754111\n",
       "CVC      0.615479\n",
       "WEG      0.332178\n",
       "MGLU     0.675652\n",
       "TOTVS    0.378162\n",
       "IBOV     0.240668\n",
       "dtype: float64"
      ]
     },
     "execution_count": 23,
     "metadata": {},
     "output_type": "execute_result"
    }
   ],
   "source": [
    "taxas_retorno.std() * math.sqrt(246)"
   ]
  },
  {
   "cell_type": "markdown",
   "metadata": {},
   "source": [
    "## Correlação entre as ações"
   ]
  },
  {
   "cell_type": "code",
   "execution_count": 24,
   "metadata": {},
   "outputs": [
    {
     "data": {
      "text/html": [
       "<div>\n",
       "<style scoped>\n",
       "    .dataframe tbody tr th:only-of-type {\n",
       "        vertical-align: middle;\n",
       "    }\n",
       "\n",
       "    .dataframe tbody tr th {\n",
       "        vertical-align: top;\n",
       "    }\n",
       "\n",
       "    .dataframe thead th {\n",
       "        text-align: right;\n",
       "    }\n",
       "</style>\n",
       "<table border=\"1\" class=\"dataframe\">\n",
       "  <thead>\n",
       "    <tr style=\"text-align: right;\">\n",
       "      <th></th>\n",
       "      <th>GOL</th>\n",
       "      <th>CVC</th>\n",
       "      <th>WEG</th>\n",
       "      <th>MGLU</th>\n",
       "      <th>TOTVS</th>\n",
       "      <th>IBOV</th>\n",
       "    </tr>\n",
       "  </thead>\n",
       "  <tbody>\n",
       "    <tr>\n",
       "      <th>0</th>\n",
       "      <td>14.99</td>\n",
       "      <td>11.164607</td>\n",
       "      <td>4.988705</td>\n",
       "      <td>2.058074</td>\n",
       "      <td>10.155536</td>\n",
       "      <td>47.259998</td>\n",
       "    </tr>\n",
       "    <tr>\n",
       "      <th>1</th>\n",
       "      <td>14.85</td>\n",
       "      <td>11.017703</td>\n",
       "      <td>5.022718</td>\n",
       "      <td>2.096750</td>\n",
       "      <td>9.843493</td>\n",
       "      <td>46.320000</td>\n",
       "    </tr>\n",
       "    <tr>\n",
       "      <th>2</th>\n",
       "      <td>15.21</td>\n",
       "      <td>10.870803</td>\n",
       "      <td>4.948212</td>\n",
       "      <td>2.069124</td>\n",
       "      <td>9.227921</td>\n",
       "      <td>46.580002</td>\n",
       "    </tr>\n",
       "    <tr>\n",
       "      <th>3</th>\n",
       "      <td>14.55</td>\n",
       "      <td>10.775316</td>\n",
       "      <td>4.891521</td>\n",
       "      <td>2.138187</td>\n",
       "      <td>9.162673</td>\n",
       "      <td>48.150002</td>\n",
       "    </tr>\n",
       "    <tr>\n",
       "      <th>4</th>\n",
       "      <td>14.27</td>\n",
       "      <td>10.393366</td>\n",
       "      <td>4.974128</td>\n",
       "      <td>2.121612</td>\n",
       "      <td>9.375432</td>\n",
       "      <td>48.509998</td>\n",
       "    </tr>\n",
       "    <tr>\n",
       "      <th>...</th>\n",
       "      <td>...</td>\n",
       "      <td>...</td>\n",
       "      <td>...</td>\n",
       "      <td>...</td>\n",
       "      <td>...</td>\n",
       "      <td>...</td>\n",
       "    </tr>\n",
       "    <tr>\n",
       "      <th>2477</th>\n",
       "      <td>1.71</td>\n",
       "      <td>1.860000</td>\n",
       "      <td>53.310001</td>\n",
       "      <td>7.010000</td>\n",
       "      <td>31.209999</td>\n",
       "      <td>121.870003</td>\n",
       "    </tr>\n",
       "    <tr>\n",
       "      <th>2478</th>\n",
       "      <td>1.71</td>\n",
       "      <td>1.770000</td>\n",
       "      <td>54.090000</td>\n",
       "      <td>6.760000</td>\n",
       "      <td>30.790001</td>\n",
       "      <td>121.029999</td>\n",
       "    </tr>\n",
       "    <tr>\n",
       "      <th>2479</th>\n",
       "      <td>1.69</td>\n",
       "      <td>1.800000</td>\n",
       "      <td>54.430000</td>\n",
       "      <td>6.590000</td>\n",
       "      <td>31.150000</td>\n",
       "      <td>120.169998</td>\n",
       "    </tr>\n",
       "    <tr>\n",
       "      <th>2480</th>\n",
       "      <td>1.70</td>\n",
       "      <td>1.950000</td>\n",
       "      <td>56.209999</td>\n",
       "      <td>7.270000</td>\n",
       "      <td>32.610001</td>\n",
       "      <td>123.949997</td>\n",
       "    </tr>\n",
       "    <tr>\n",
       "      <th>2481</th>\n",
       "      <td>1.70</td>\n",
       "      <td>1.970000</td>\n",
       "      <td>55.040001</td>\n",
       "      <td>7.460000</td>\n",
       "      <td>34.060001</td>\n",
       "      <td>123.000000</td>\n",
       "    </tr>\n",
       "  </tbody>\n",
       "</table>\n",
       "<p>2482 rows × 6 columns</p>\n",
       "</div>"
      ],
      "text/plain": [
       "        GOL        CVC        WEG      MGLU      TOTVS        IBOV\n",
       "0     14.99  11.164607   4.988705  2.058074  10.155536   47.259998\n",
       "1     14.85  11.017703   5.022718  2.096750   9.843493   46.320000\n",
       "2     15.21  10.870803   4.948212  2.069124   9.227921   46.580002\n",
       "3     14.55  10.775316   4.891521  2.138187   9.162673   48.150002\n",
       "4     14.27  10.393366   4.974128  2.121612   9.375432   48.509998\n",
       "...     ...        ...        ...       ...        ...         ...\n",
       "2477   1.71   1.860000  53.310001  7.010000  31.209999  121.870003\n",
       "2478   1.71   1.770000  54.090000  6.760000  30.790001  121.029999\n",
       "2479   1.69   1.800000  54.430000  6.590000  31.150000  120.169998\n",
       "2480   1.70   1.950000  56.209999  7.270000  32.610001  123.949997\n",
       "2481   1.70   1.970000  55.040001  7.460000  34.060001  123.000000\n",
       "\n",
       "[2482 rows x 6 columns]"
      ]
     },
     "execution_count": 24,
     "metadata": {},
     "output_type": "execute_result"
    }
   ],
   "source": [
    "dataset"
   ]
  },
  {
   "cell_type": "code",
   "execution_count": 25,
   "metadata": {},
   "outputs": [
    {
     "data": {
      "text/html": [
       "<div>\n",
       "<style scoped>\n",
       "    .dataframe tbody tr th:only-of-type {\n",
       "        vertical-align: middle;\n",
       "    }\n",
       "\n",
       "    .dataframe tbody tr th {\n",
       "        vertical-align: top;\n",
       "    }\n",
       "\n",
       "    .dataframe thead th {\n",
       "        text-align: right;\n",
       "    }\n",
       "</style>\n",
       "<table border=\"1\" class=\"dataframe\">\n",
       "  <thead>\n",
       "    <tr style=\"text-align: right;\">\n",
       "      <th></th>\n",
       "      <th>GOL</th>\n",
       "      <th>CVC</th>\n",
       "      <th>WEG</th>\n",
       "      <th>MGLU</th>\n",
       "      <th>TOTVS</th>\n",
       "      <th>IBOV</th>\n",
       "    </tr>\n",
       "  </thead>\n",
       "  <tbody>\n",
       "    <tr>\n",
       "      <th>0</th>\n",
       "      <td>NaN</td>\n",
       "      <td>NaN</td>\n",
       "      <td>NaN</td>\n",
       "      <td>NaN</td>\n",
       "      <td>NaN</td>\n",
       "      <td>NaN</td>\n",
       "    </tr>\n",
       "    <tr>\n",
       "      <th>1</th>\n",
       "      <td>-0.009340</td>\n",
       "      <td>-0.013158</td>\n",
       "      <td>0.006818</td>\n",
       "      <td>0.018792</td>\n",
       "      <td>-0.030726</td>\n",
       "      <td>-0.019890</td>\n",
       "    </tr>\n",
       "    <tr>\n",
       "      <th>2</th>\n",
       "      <td>0.024242</td>\n",
       "      <td>-0.013333</td>\n",
       "      <td>-0.014834</td>\n",
       "      <td>-0.013176</td>\n",
       "      <td>-0.062536</td>\n",
       "      <td>0.005613</td>\n",
       "    </tr>\n",
       "    <tr>\n",
       "      <th>3</th>\n",
       "      <td>-0.043392</td>\n",
       "      <td>-0.008784</td>\n",
       "      <td>-0.011457</td>\n",
       "      <td>0.033378</td>\n",
       "      <td>-0.007071</td>\n",
       "      <td>0.033705</td>\n",
       "    </tr>\n",
       "    <tr>\n",
       "      <th>4</th>\n",
       "      <td>-0.019244</td>\n",
       "      <td>-0.035447</td>\n",
       "      <td>0.016888</td>\n",
       "      <td>-0.007752</td>\n",
       "      <td>0.023220</td>\n",
       "      <td>0.007477</td>\n",
       "    </tr>\n",
       "    <tr>\n",
       "      <th>...</th>\n",
       "      <td>...</td>\n",
       "      <td>...</td>\n",
       "      <td>...</td>\n",
       "      <td>...</td>\n",
       "      <td>...</td>\n",
       "      <td>...</td>\n",
       "    </tr>\n",
       "    <tr>\n",
       "      <th>2477</th>\n",
       "      <td>0.000000</td>\n",
       "      <td>0.044944</td>\n",
       "      <td>-0.078797</td>\n",
       "      <td>0.100471</td>\n",
       "      <td>0.043464</td>\n",
       "      <td>0.020260</td>\n",
       "    </tr>\n",
       "    <tr>\n",
       "      <th>2478</th>\n",
       "      <td>0.000000</td>\n",
       "      <td>-0.048387</td>\n",
       "      <td>0.014631</td>\n",
       "      <td>-0.035663</td>\n",
       "      <td>-0.013457</td>\n",
       "      <td>-0.006893</td>\n",
       "    </tr>\n",
       "    <tr>\n",
       "      <th>2479</th>\n",
       "      <td>-0.011696</td>\n",
       "      <td>0.016949</td>\n",
       "      <td>0.006286</td>\n",
       "      <td>-0.025148</td>\n",
       "      <td>0.011692</td>\n",
       "      <td>-0.007106</td>\n",
       "    </tr>\n",
       "    <tr>\n",
       "      <th>2480</th>\n",
       "      <td>0.005917</td>\n",
       "      <td>0.083333</td>\n",
       "      <td>0.032703</td>\n",
       "      <td>0.103187</td>\n",
       "      <td>0.046870</td>\n",
       "      <td>0.031455</td>\n",
       "    </tr>\n",
       "    <tr>\n",
       "      <th>2481</th>\n",
       "      <td>0.000000</td>\n",
       "      <td>0.010256</td>\n",
       "      <td>-0.020815</td>\n",
       "      <td>0.026135</td>\n",
       "      <td>0.044465</td>\n",
       "      <td>-0.007664</td>\n",
       "    </tr>\n",
       "  </tbody>\n",
       "</table>\n",
       "<p>2482 rows × 6 columns</p>\n",
       "</div>"
      ],
      "text/plain": [
       "           GOL       CVC       WEG      MGLU     TOTVS      IBOV\n",
       "0          NaN       NaN       NaN       NaN       NaN       NaN\n",
       "1    -0.009340 -0.013158  0.006818  0.018792 -0.030726 -0.019890\n",
       "2     0.024242 -0.013333 -0.014834 -0.013176 -0.062536  0.005613\n",
       "3    -0.043392 -0.008784 -0.011457  0.033378 -0.007071  0.033705\n",
       "4    -0.019244 -0.035447  0.016888 -0.007752  0.023220  0.007477\n",
       "...        ...       ...       ...       ...       ...       ...\n",
       "2477  0.000000  0.044944 -0.078797  0.100471  0.043464  0.020260\n",
       "2478  0.000000 -0.048387  0.014631 -0.035663 -0.013457 -0.006893\n",
       "2479 -0.011696  0.016949  0.006286 -0.025148  0.011692 -0.007106\n",
       "2480  0.005917  0.083333  0.032703  0.103187  0.046870  0.031455\n",
       "2481  0.000000  0.010256 -0.020815  0.026135  0.044465 -0.007664\n",
       "\n",
       "[2482 rows x 6 columns]"
      ]
     },
     "execution_count": 25,
     "metadata": {},
     "output_type": "execute_result"
    }
   ],
   "source": [
    "taxas_retorno"
   ]
  },
  {
   "cell_type": "markdown",
   "metadata": {},
   "source": [
    "### Covariância"
   ]
  },
  {
   "cell_type": "code",
   "execution_count": 26,
   "metadata": {},
   "outputs": [
    {
     "data": {
      "text/html": [
       "<div>\n",
       "<style scoped>\n",
       "    .dataframe tbody tr th:only-of-type {\n",
       "        vertical-align: middle;\n",
       "    }\n",
       "\n",
       "    .dataframe tbody tr th {\n",
       "        vertical-align: top;\n",
       "    }\n",
       "\n",
       "    .dataframe thead th {\n",
       "        text-align: right;\n",
       "    }\n",
       "</style>\n",
       "<table border=\"1\" class=\"dataframe\">\n",
       "  <thead>\n",
       "    <tr style=\"text-align: right;\">\n",
       "      <th></th>\n",
       "      <th>GOL</th>\n",
       "      <th>CVC</th>\n",
       "      <th>WEG</th>\n",
       "      <th>MGLU</th>\n",
       "      <th>TOTVS</th>\n",
       "      <th>IBOV</th>\n",
       "    </tr>\n",
       "  </thead>\n",
       "  <tbody>\n",
       "    <tr>\n",
       "      <th>GOL</th>\n",
       "      <td>0.002312</td>\n",
       "      <td>0.000982</td>\n",
       "      <td>0.000287</td>\n",
       "      <td>0.000688</td>\n",
       "      <td>0.000381</td>\n",
       "      <td>0.000410</td>\n",
       "    </tr>\n",
       "    <tr>\n",
       "      <th>CVC</th>\n",
       "      <td>0.000982</td>\n",
       "      <td>0.001540</td>\n",
       "      <td>0.000210</td>\n",
       "      <td>0.000685</td>\n",
       "      <td>0.000329</td>\n",
       "      <td>0.000314</td>\n",
       "    </tr>\n",
       "    <tr>\n",
       "      <th>WEG</th>\n",
       "      <td>0.000287</td>\n",
       "      <td>0.000210</td>\n",
       "      <td>0.000449</td>\n",
       "      <td>0.000231</td>\n",
       "      <td>0.000190</td>\n",
       "      <td>0.000164</td>\n",
       "    </tr>\n",
       "    <tr>\n",
       "      <th>MGLU</th>\n",
       "      <td>0.000688</td>\n",
       "      <td>0.000685</td>\n",
       "      <td>0.000231</td>\n",
       "      <td>0.001856</td>\n",
       "      <td>0.000369</td>\n",
       "      <td>0.000306</td>\n",
       "    </tr>\n",
       "    <tr>\n",
       "      <th>TOTVS</th>\n",
       "      <td>0.000381</td>\n",
       "      <td>0.000329</td>\n",
       "      <td>0.000190</td>\n",
       "      <td>0.000369</td>\n",
       "      <td>0.000581</td>\n",
       "      <td>0.000186</td>\n",
       "    </tr>\n",
       "    <tr>\n",
       "      <th>IBOV</th>\n",
       "      <td>0.000410</td>\n",
       "      <td>0.000314</td>\n",
       "      <td>0.000164</td>\n",
       "      <td>0.000306</td>\n",
       "      <td>0.000186</td>\n",
       "      <td>0.000235</td>\n",
       "    </tr>\n",
       "  </tbody>\n",
       "</table>\n",
       "</div>"
      ],
      "text/plain": [
       "            GOL       CVC       WEG      MGLU     TOTVS      IBOV\n",
       "GOL    0.002312  0.000982  0.000287  0.000688  0.000381  0.000410\n",
       "CVC    0.000982  0.001540  0.000210  0.000685  0.000329  0.000314\n",
       "WEG    0.000287  0.000210  0.000449  0.000231  0.000190  0.000164\n",
       "MGLU   0.000688  0.000685  0.000231  0.001856  0.000369  0.000306\n",
       "TOTVS  0.000381  0.000329  0.000190  0.000369  0.000581  0.000186\n",
       "IBOV   0.000410  0.000314  0.000164  0.000306  0.000186  0.000235"
      ]
     },
     "execution_count": 26,
     "metadata": {},
     "output_type": "execute_result"
    }
   ],
   "source": [
    "taxas_retorno.cov()"
   ]
  },
  {
   "cell_type": "code",
   "execution_count": 27,
   "metadata": {},
   "outputs": [
    {
     "data": {
      "text/html": [
       "<div>\n",
       "<style scoped>\n",
       "    .dataframe tbody tr th:only-of-type {\n",
       "        vertical-align: middle;\n",
       "    }\n",
       "\n",
       "    .dataframe tbody tr th {\n",
       "        vertical-align: top;\n",
       "    }\n",
       "\n",
       "    .dataframe thead th {\n",
       "        text-align: right;\n",
       "    }\n",
       "</style>\n",
       "<table border=\"1\" class=\"dataframe\">\n",
       "  <thead>\n",
       "    <tr style=\"text-align: right;\">\n",
       "      <th></th>\n",
       "      <th>GOL</th>\n",
       "      <th>CVC</th>\n",
       "      <th>WEG</th>\n",
       "      <th>MGLU</th>\n",
       "      <th>TOTVS</th>\n",
       "      <th>IBOV</th>\n",
       "    </tr>\n",
       "  </thead>\n",
       "  <tbody>\n",
       "    <tr>\n",
       "      <th>GOL</th>\n",
       "      <td>1.000000</td>\n",
       "      <td>0.520487</td>\n",
       "      <td>0.281637</td>\n",
       "      <td>0.332116</td>\n",
       "      <td>0.328552</td>\n",
       "      <td>0.555733</td>\n",
       "    </tr>\n",
       "    <tr>\n",
       "      <th>CVC</th>\n",
       "      <td>0.520487</td>\n",
       "      <td>1.000000</td>\n",
       "      <td>0.253208</td>\n",
       "      <td>0.404946</td>\n",
       "      <td>0.347354</td>\n",
       "      <td>0.521877</td>\n",
       "    </tr>\n",
       "    <tr>\n",
       "      <th>WEG</th>\n",
       "      <td>0.281637</td>\n",
       "      <td>0.253208</td>\n",
       "      <td>1.000000</td>\n",
       "      <td>0.252779</td>\n",
       "      <td>0.371792</td>\n",
       "      <td>0.503127</td>\n",
       "    </tr>\n",
       "    <tr>\n",
       "      <th>MGLU</th>\n",
       "      <td>0.332116</td>\n",
       "      <td>0.404946</td>\n",
       "      <td>0.252779</td>\n",
       "      <td>1.000000</td>\n",
       "      <td>0.355624</td>\n",
       "      <td>0.463547</td>\n",
       "    </tr>\n",
       "    <tr>\n",
       "      <th>TOTVS</th>\n",
       "      <td>0.328552</td>\n",
       "      <td>0.347354</td>\n",
       "      <td>0.371792</td>\n",
       "      <td>0.355624</td>\n",
       "      <td>1.000000</td>\n",
       "      <td>0.502071</td>\n",
       "    </tr>\n",
       "    <tr>\n",
       "      <th>IBOV</th>\n",
       "      <td>0.555733</td>\n",
       "      <td>0.521877</td>\n",
       "      <td>0.503127</td>\n",
       "      <td>0.463547</td>\n",
       "      <td>0.502071</td>\n",
       "      <td>1.000000</td>\n",
       "    </tr>\n",
       "  </tbody>\n",
       "</table>\n",
       "</div>"
      ],
      "text/plain": [
       "            GOL       CVC       WEG      MGLU     TOTVS      IBOV\n",
       "GOL    1.000000  0.520487  0.281637  0.332116  0.328552  0.555733\n",
       "CVC    0.520487  1.000000  0.253208  0.404946  0.347354  0.521877\n",
       "WEG    0.281637  0.253208  1.000000  0.252779  0.371792  0.503127\n",
       "MGLU   0.332116  0.404946  0.252779  1.000000  0.355624  0.463547\n",
       "TOTVS  0.328552  0.347354  0.371792  0.355624  1.000000  0.502071\n",
       "IBOV   0.555733  0.521877  0.503127  0.463547  0.502071  1.000000"
      ]
     },
     "execution_count": 27,
     "metadata": {},
     "output_type": "execute_result"
    }
   ],
   "source": [
    "taxas_retorno.corr()"
   ]
  },
  {
   "cell_type": "code",
   "execution_count": 28,
   "metadata": {},
   "outputs": [
    {
     "data": {
      "image/png": "[encoded data removed]",
      "text/plain": [
       "<Figure size 800x800 with 2 Axes>"
      ]
     },
     "metadata": {},
     "output_type": "display_data"
    }
   ],
   "source": [
    "plt.figure(figsize=(8, 8))\n",
    "sns.heatmap(taxas_retorno.corr(), annot=True);"
   ]
  },
  {
   "cell_type": "markdown",
   "metadata": {},
   "source": [
    "## Risco do portfólio"
   ]
  },
  {
   "cell_type": "code",
   "execution_count": null,
   "metadata": {},
   "outputs": [],
   "source": []
  },
  {
   "cell_type": "markdown",
   "metadata": {},
   "source": [
    "### Somente duas ações"
   ]
  },
  {
   "cell_type": "code",
   "execution_count": 29,
   "metadata": {},
   "outputs": [
    {
     "data": {
      "text/html": [
       "<div>\n",
       "<style scoped>\n",
       "    .dataframe tbody tr th:only-of-type {\n",
       "        vertical-align: middle;\n",
       "    }\n",
       "\n",
       "    .dataframe tbody tr th {\n",
       "        vertical-align: top;\n",
       "    }\n",
       "\n",
       "    .dataframe thead th {\n",
       "        text-align: right;\n",
       "    }\n",
       "</style>\n",
       "<table border=\"1\" class=\"dataframe\">\n",
       "  <thead>\n",
       "    <tr style=\"text-align: right;\">\n",
       "      <th></th>\n",
       "      <th>GOL</th>\n",
       "      <th>CVC</th>\n",
       "      <th>WEG</th>\n",
       "      <th>MGLU</th>\n",
       "      <th>TOTVS</th>\n",
       "      <th>IBOV</th>\n",
       "    </tr>\n",
       "  </thead>\n",
       "  <tbody>\n",
       "    <tr>\n",
       "      <th>0</th>\n",
       "      <td>NaN</td>\n",
       "      <td>NaN</td>\n",
       "      <td>NaN</td>\n",
       "      <td>NaN</td>\n",
       "      <td>NaN</td>\n",
       "      <td>NaN</td>\n",
       "    </tr>\n",
       "    <tr>\n",
       "      <th>1</th>\n",
       "      <td>-0.009340</td>\n",
       "      <td>-0.013158</td>\n",
       "      <td>0.006818</td>\n",
       "      <td>0.018792</td>\n",
       "      <td>-0.030726</td>\n",
       "      <td>-0.019890</td>\n",
       "    </tr>\n",
       "    <tr>\n",
       "      <th>2</th>\n",
       "      <td>0.024242</td>\n",
       "      <td>-0.013333</td>\n",
       "      <td>-0.014834</td>\n",
       "      <td>-0.013176</td>\n",
       "      <td>-0.062536</td>\n",
       "      <td>0.005613</td>\n",
       "    </tr>\n",
       "    <tr>\n",
       "      <th>3</th>\n",
       "      <td>-0.043392</td>\n",
       "      <td>-0.008784</td>\n",
       "      <td>-0.011457</td>\n",
       "      <td>0.033378</td>\n",
       "      <td>-0.007071</td>\n",
       "      <td>0.033705</td>\n",
       "    </tr>\n",
       "    <tr>\n",
       "      <th>4</th>\n",
       "      <td>-0.019244</td>\n",
       "      <td>-0.035447</td>\n",
       "      <td>0.016888</td>\n",
       "      <td>-0.007752</td>\n",
       "      <td>0.023220</td>\n",
       "      <td>0.007477</td>\n",
       "    </tr>\n",
       "    <tr>\n",
       "      <th>...</th>\n",
       "      <td>...</td>\n",
       "      <td>...</td>\n",
       "      <td>...</td>\n",
       "      <td>...</td>\n",
       "      <td>...</td>\n",
       "      <td>...</td>\n",
       "    </tr>\n",
       "    <tr>\n",
       "      <th>2477</th>\n",
       "      <td>0.000000</td>\n",
       "      <td>0.044944</td>\n",
       "      <td>-0.078797</td>\n",
       "      <td>0.100471</td>\n",
       "      <td>0.043464</td>\n",
       "      <td>0.020260</td>\n",
       "    </tr>\n",
       "    <tr>\n",
       "      <th>2478</th>\n",
       "      <td>0.000000</td>\n",
       "      <td>-0.048387</td>\n",
       "      <td>0.014631</td>\n",
       "      <td>-0.035663</td>\n",
       "      <td>-0.013457</td>\n",
       "      <td>-0.006893</td>\n",
       "    </tr>\n",
       "    <tr>\n",
       "      <th>2479</th>\n",
       "      <td>-0.011696</td>\n",
       "      <td>0.016949</td>\n",
       "      <td>0.006286</td>\n",
       "      <td>-0.025148</td>\n",
       "      <td>0.011692</td>\n",
       "      <td>-0.007106</td>\n",
       "    </tr>\n",
       "    <tr>\n",
       "      <th>2480</th>\n",
       "      <td>0.005917</td>\n",
       "      <td>0.083333</td>\n",
       "      <td>0.032703</td>\n",
       "      <td>0.103187</td>\n",
       "      <td>0.046870</td>\n",
       "      <td>0.031455</td>\n",
       "    </tr>\n",
       "    <tr>\n",
       "      <th>2481</th>\n",
       "      <td>0.000000</td>\n",
       "      <td>0.010256</td>\n",
       "      <td>-0.020815</td>\n",
       "      <td>0.026135</td>\n",
       "      <td>0.044465</td>\n",
       "      <td>-0.007664</td>\n",
       "    </tr>\n",
       "  </tbody>\n",
       "</table>\n",
       "<p>2482 rows × 6 columns</p>\n",
       "</div>"
      ],
      "text/plain": [
       "           GOL       CVC       WEG      MGLU     TOTVS      IBOV\n",
       "0          NaN       NaN       NaN       NaN       NaN       NaN\n",
       "1    -0.009340 -0.013158  0.006818  0.018792 -0.030726 -0.019890\n",
       "2     0.024242 -0.013333 -0.014834 -0.013176 -0.062536  0.005613\n",
       "3    -0.043392 -0.008784 -0.011457  0.033378 -0.007071  0.033705\n",
       "4    -0.019244 -0.035447  0.016888 -0.007752  0.023220  0.007477\n",
       "...        ...       ...       ...       ...       ...       ...\n",
       "2477  0.000000  0.044944 -0.078797  0.100471  0.043464  0.020260\n",
       "2478  0.000000 -0.048387  0.014631 -0.035663 -0.013457 -0.006893\n",
       "2479 -0.011696  0.016949  0.006286 -0.025148  0.011692 -0.007106\n",
       "2480  0.005917  0.083333  0.032703  0.103187  0.046870  0.031455\n",
       "2481  0.000000  0.010256 -0.020815  0.026135  0.044465 -0.007664\n",
       "\n",
       "[2482 rows x 6 columns]"
      ]
     },
     "execution_count": 29,
     "metadata": {},
     "output_type": "execute_result"
    }
   ],
   "source": [
    "taxas_retorno"
   ]
  },
  {
   "cell_type": "code",
   "execution_count": 30,
   "metadata": {},
   "outputs": [
    {
     "data": {
      "text/html": [
       "<div>\n",
       "<style scoped>\n",
       "    .dataframe tbody tr th:only-of-type {\n",
       "        vertical-align: middle;\n",
       "    }\n",
       "\n",
       "    .dataframe tbody tr th {\n",
       "        vertical-align: top;\n",
       "    }\n",
       "\n",
       "    .dataframe thead th {\n",
       "        text-align: right;\n",
       "    }\n",
       "</style>\n",
       "<table border=\"1\" class=\"dataframe\">\n",
       "  <thead>\n",
       "    <tr style=\"text-align: right;\">\n",
       "      <th></th>\n",
       "      <th>GOL</th>\n",
       "      <th>CVC</th>\n",
       "    </tr>\n",
       "  </thead>\n",
       "  <tbody>\n",
       "    <tr>\n",
       "      <th>0</th>\n",
       "      <td>NaN</td>\n",
       "      <td>NaN</td>\n",
       "    </tr>\n",
       "    <tr>\n",
       "      <th>1</th>\n",
       "      <td>-0.009340</td>\n",
       "      <td>-0.013158</td>\n",
       "    </tr>\n",
       "    <tr>\n",
       "      <th>2</th>\n",
       "      <td>0.024242</td>\n",
       "      <td>-0.013333</td>\n",
       "    </tr>\n",
       "    <tr>\n",
       "      <th>3</th>\n",
       "      <td>-0.043392</td>\n",
       "      <td>-0.008784</td>\n",
       "    </tr>\n",
       "    <tr>\n",
       "      <th>4</th>\n",
       "      <td>-0.019244</td>\n",
       "      <td>-0.035447</td>\n",
       "    </tr>\n",
       "    <tr>\n",
       "      <th>...</th>\n",
       "      <td>...</td>\n",
       "      <td>...</td>\n",
       "    </tr>\n",
       "    <tr>\n",
       "      <th>2477</th>\n",
       "      <td>0.000000</td>\n",
       "      <td>0.044944</td>\n",
       "    </tr>\n",
       "    <tr>\n",
       "      <th>2478</th>\n",
       "      <td>0.000000</td>\n",
       "      <td>-0.048387</td>\n",
       "    </tr>\n",
       "    <tr>\n",
       "      <th>2479</th>\n",
       "      <td>-0.011696</td>\n",
       "      <td>0.016949</td>\n",
       "    </tr>\n",
       "    <tr>\n",
       "      <th>2480</th>\n",
       "      <td>0.005917</td>\n",
       "      <td>0.083333</td>\n",
       "    </tr>\n",
       "    <tr>\n",
       "      <th>2481</th>\n",
       "      <td>0.000000</td>\n",
       "      <td>0.010256</td>\n",
       "    </tr>\n",
       "  </tbody>\n",
       "</table>\n",
       "<p>2482 rows × 2 columns</p>\n",
       "</div>"
      ],
      "text/plain": [
       "           GOL       CVC\n",
       "0          NaN       NaN\n",
       "1    -0.009340 -0.013158\n",
       "2     0.024242 -0.013333\n",
       "3    -0.043392 -0.008784\n",
       "4    -0.019244 -0.035447\n",
       "...        ...       ...\n",
       "2477  0.000000  0.044944\n",
       "2478  0.000000 -0.048387\n",
       "2479 -0.011696  0.016949\n",
       "2480  0.005917  0.083333\n",
       "2481  0.000000  0.010256\n",
       "\n",
       "[2482 rows x 2 columns]"
      ]
     },
     "execution_count": 30,
     "metadata": {},
     "output_type": "execute_result"
    }
   ],
   "source": [
    "taxas_retorno_gol_cvc = taxas_retorno.drop(columns=['WEG', 'MGLU', 'TOTVS', 'IBOV'])\n",
    "taxas_retorno_gol_cvc"
   ]
  },
  {
   "cell_type": "code",
   "execution_count": 31,
   "metadata": {},
   "outputs": [
    {
     "data": {
      "text/html": [
       "<div>\n",
       "<style scoped>\n",
       "    .dataframe tbody tr th:only-of-type {\n",
       "        vertical-align: middle;\n",
       "    }\n",
       "\n",
       "    .dataframe tbody tr th {\n",
       "        vertical-align: top;\n",
       "    }\n",
       "\n",
       "    .dataframe thead th {\n",
       "        text-align: right;\n",
       "    }\n",
       "</style>\n",
       "<table border=\"1\" class=\"dataframe\">\n",
       "  <thead>\n",
       "    <tr style=\"text-align: right;\">\n",
       "      <th></th>\n",
       "      <th>GOL</th>\n",
       "      <th>CVC</th>\n",
       "    </tr>\n",
       "  </thead>\n",
       "  <tbody>\n",
       "    <tr>\n",
       "      <th>GOL</th>\n",
       "      <td>0.002312</td>\n",
       "      <td>0.000982</td>\n",
       "    </tr>\n",
       "    <tr>\n",
       "      <th>CVC</th>\n",
       "      <td>0.000982</td>\n",
       "      <td>0.001540</td>\n",
       "    </tr>\n",
       "  </tbody>\n",
       "</table>\n",
       "</div>"
      ],
      "text/plain": [
       "          GOL       CVC\n",
       "GOL  0.002312  0.000982\n",
       "CVC  0.000982  0.001540"
      ]
     },
     "execution_count": 31,
     "metadata": {},
     "output_type": "execute_result"
    }
   ],
   "source": [
    "taxas_retorno_gol_cvc.cov()"
   ]
  },
  {
   "cell_type": "code",
   "execution_count": 32,
   "metadata": {},
   "outputs": [
    {
     "data": {
      "text/html": [
       "<div>\n",
       "<style scoped>\n",
       "    .dataframe tbody tr th:only-of-type {\n",
       "        vertical-align: middle;\n",
       "    }\n",
       "\n",
       "    .dataframe tbody tr th {\n",
       "        vertical-align: top;\n",
       "    }\n",
       "\n",
       "    .dataframe thead th {\n",
       "        text-align: right;\n",
       "    }\n",
       "</style>\n",
       "<table border=\"1\" class=\"dataframe\">\n",
       "  <thead>\n",
       "    <tr style=\"text-align: right;\">\n",
       "      <th></th>\n",
       "      <th>GOL</th>\n",
       "      <th>CVC</th>\n",
       "    </tr>\n",
       "  </thead>\n",
       "  <tbody>\n",
       "    <tr>\n",
       "      <th>GOL</th>\n",
       "      <td>0.568683</td>\n",
       "      <td>0.241579</td>\n",
       "    </tr>\n",
       "    <tr>\n",
       "      <th>CVC</th>\n",
       "      <td>0.241579</td>\n",
       "      <td>0.378814</td>\n",
       "    </tr>\n",
       "  </tbody>\n",
       "</table>\n",
       "</div>"
      ],
      "text/plain": [
       "          GOL       CVC\n",
       "GOL  0.568683  0.241579\n",
       "CVC  0.241579  0.378814"
      ]
     },
     "execution_count": 32,
     "metadata": {},
     "output_type": "execute_result"
    }
   ],
   "source": [
    "taxas_retorno_gol_cvc.cov() * 246"
   ]
  },
  {
   "cell_type": "code",
   "execution_count": 33,
   "metadata": {},
   "outputs": [],
   "source": [
    "pesos = np.array([0.5, 0.5])"
   ]
  },
  {
   "cell_type": "markdown",
   "metadata": {},
   "source": [
    "### Multiplicar as matrizes"
   ]
  },
  {
   "cell_type": "code",
   "execution_count": 35,
   "metadata": {},
   "outputs": [
    {
     "data": {
      "text/plain": [
       "array([0.40513072, 0.31019648])"
      ]
     },
     "execution_count": 35,
     "metadata": {},
     "output_type": "execute_result"
    }
   ],
   "source": [
    "np.dot((taxas_retorno_gol_cvc.cov() * 246), pesos)"
   ]
  },
  {
   "cell_type": "code",
   "execution_count": 36,
   "metadata": {},
   "outputs": [
    {
     "data": {
      "text/plain": [
       "np.float64(0.3576636008646658)"
      ]
     },
     "execution_count": 36,
     "metadata": {},
     "output_type": "execute_result"
    }
   ],
   "source": [
    "np.dot(pesos, np.dot((taxas_retorno_gol_cvc.cov() * 246), pesos))"
   ]
  },
  {
   "cell_type": "markdown",
   "metadata": {},
   "source": [
    "#### Desvio Padrão"
   ]
  },
  {
   "cell_type": "code",
   "execution_count": 37,
   "metadata": {},
   "outputs": [
    {
     "data": {
      "text/plain": [
       "0.5980498314226548"
      ]
     },
     "execution_count": 37,
     "metadata": {},
     "output_type": "execute_result"
    }
   ],
   "source": [
    "math.sqrt(np.dot(pesos, np.dot((taxas_retorno_gol_cvc.cov() * 246), pesos)))"
   ]
  },
  {
   "cell_type": "markdown",
   "metadata": {},
   "source": [
    "### Todas as ações"
   ]
  },
  {
   "cell_type": "code",
   "execution_count": 38,
   "metadata": {},
   "outputs": [
    {
     "data": {
      "text/plain": [
       "Index(['GOL', 'CVC', 'WEG', 'MGLU', 'TOTVS', 'IBOV'], dtype='object')"
      ]
     },
     "execution_count": 38,
     "metadata": {},
     "output_type": "execute_result"
    }
   ],
   "source": [
    "dataset.columns"
   ]
  },
  {
   "cell_type": "code",
   "execution_count": 39,
   "metadata": {},
   "outputs": [
    {
     "data": {
      "text/plain": [
       "np.float64(1.0)"
      ]
     },
     "execution_count": 39,
     "metadata": {},
     "output_type": "execute_result"
    }
   ],
   "source": [
    "pesos1 = np.array([0.2, 0.2, 0.2, 0.2, 0.2, 0])\n",
    "pesos1.sum()"
   ]
  },
  {
   "cell_type": "code",
   "execution_count": 42,
   "metadata": {},
   "outputs": [
    {
     "data": {
      "text/html": [
       "<div>\n",
       "<style scoped>\n",
       "    .dataframe tbody tr th:only-of-type {\n",
       "        vertical-align: middle;\n",
       "    }\n",
       "\n",
       "    .dataframe tbody tr th {\n",
       "        vertical-align: top;\n",
       "    }\n",
       "\n",
       "    .dataframe thead th {\n",
       "        text-align: right;\n",
       "    }\n",
       "</style>\n",
       "<table border=\"1\" class=\"dataframe\">\n",
       "  <thead>\n",
       "    <tr style=\"text-align: right;\">\n",
       "      <th></th>\n",
       "      <th>GOL</th>\n",
       "      <th>CVC</th>\n",
       "      <th>WEG</th>\n",
       "      <th>MGLU</th>\n",
       "      <th>TOTVS</th>\n",
       "      <th>IBOV</th>\n",
       "    </tr>\n",
       "  </thead>\n",
       "  <tbody>\n",
       "    <tr>\n",
       "      <th>GOL</th>\n",
       "      <td>0.568683</td>\n",
       "      <td>0.241579</td>\n",
       "      <td>0.070550</td>\n",
       "      <td>0.169219</td>\n",
       "      <td>0.093695</td>\n",
       "      <td>0.100860</td>\n",
       "    </tr>\n",
       "    <tr>\n",
       "      <th>CVC</th>\n",
       "      <td>0.241579</td>\n",
       "      <td>0.378814</td>\n",
       "      <td>0.051768</td>\n",
       "      <td>0.168397</td>\n",
       "      <td>0.080847</td>\n",
       "      <td>0.077304</td>\n",
       "    </tr>\n",
       "    <tr>\n",
       "      <th>WEG</th>\n",
       "      <td>0.070550</td>\n",
       "      <td>0.051768</td>\n",
       "      <td>0.110342</td>\n",
       "      <td>0.056733</td>\n",
       "      <td>0.046704</td>\n",
       "      <td>0.040222</td>\n",
       "    </tr>\n",
       "    <tr>\n",
       "      <th>MGLU</th>\n",
       "      <td>0.169219</td>\n",
       "      <td>0.168397</td>\n",
       "      <td>0.056733</td>\n",
       "      <td>0.456506</td>\n",
       "      <td>0.090864</td>\n",
       "      <td>0.075376</td>\n",
       "    </tr>\n",
       "    <tr>\n",
       "      <th>TOTVS</th>\n",
       "      <td>0.093695</td>\n",
       "      <td>0.080847</td>\n",
       "      <td>0.046704</td>\n",
       "      <td>0.090864</td>\n",
       "      <td>0.143007</td>\n",
       "      <td>0.045694</td>\n",
       "    </tr>\n",
       "    <tr>\n",
       "      <th>IBOV</th>\n",
       "      <td>0.100860</td>\n",
       "      <td>0.077304</td>\n",
       "      <td>0.040222</td>\n",
       "      <td>0.075376</td>\n",
       "      <td>0.045694</td>\n",
       "      <td>0.057921</td>\n",
       "    </tr>\n",
       "  </tbody>\n",
       "</table>\n",
       "</div>"
      ],
      "text/plain": [
       "            GOL       CVC       WEG      MGLU     TOTVS      IBOV\n",
       "GOL    0.568683  0.241579  0.070550  0.169219  0.093695  0.100860\n",
       "CVC    0.241579  0.378814  0.051768  0.168397  0.080847  0.077304\n",
       "WEG    0.070550  0.051768  0.110342  0.056733  0.046704  0.040222\n",
       "MGLU   0.169219  0.168397  0.056733  0.456506  0.090864  0.075376\n",
       "TOTVS  0.093695  0.080847  0.046704  0.090864  0.143007  0.045694\n",
       "IBOV   0.100860  0.077304  0.040222  0.075376  0.045694  0.057921"
      ]
     },
     "execution_count": 42,
     "metadata": {},
     "output_type": "execute_result"
    }
   ],
   "source": [
    "taxas_retorno.cov() * 246"
   ]
  },
  {
   "cell_type": "code",
   "execution_count": 43,
   "metadata": {},
   "outputs": [
    {
     "data": {
      "text/plain": [
       "array([0.22874498, 0.18428096, 0.06721941, 0.18834361, 0.09102328,\n",
       "       0.06789137])"
      ]
     },
     "execution_count": 43,
     "metadata": {},
     "output_type": "execute_result"
    }
   ],
   "source": [
    "np.dot((taxas_retorno.cov() * 246), pesos1)"
   ]
  },
  {
   "cell_type": "code",
   "execution_count": 45,
   "metadata": {},
   "outputs": [
    {
     "data": {
      "text/plain": [
       "np.float64(0.1519224491036972)"
      ]
     },
     "execution_count": 45,
     "metadata": {},
     "output_type": "execute_result"
    }
   ],
   "source": [
    "variancia_portfolio1 = np.dot(pesos1, np.dot((taxas_retorno.cov() * 246), pesos1))\n",
    "variancia_portfolio1"
   ]
  },
  {
   "cell_type": "code",
   "execution_count": 47,
   "metadata": {},
   "outputs": [
    {
     "data": {
      "text/plain": [
       "38.97723041773199"
      ]
     },
     "execution_count": 47,
     "metadata": {},
     "output_type": "execute_result"
    }
   ],
   "source": [
    "volatilidade_portfolio1 = math.sqrt(variancia_portfolio1) * 100\n",
    "volatilidade_portfolio1"
   ]
  },
  {
   "cell_type": "code",
   "execution_count": null,
   "metadata": {},
   "outputs": [
    {
     "data": {
      "text/plain": [
       "np.int64(1)"
      ]
     },
     "execution_count": 48,
     "metadata": {},
     "output_type": "execute_result"
    }
   ],
   "source": [
    "pesos2 = np.array([0, 0, 0, 0, 0, 1])\n",
    "pesos2.sum()"
   ]
  },
  {
   "cell_type": "code",
   "execution_count": 51,
   "metadata": {},
   "outputs": [
    {
     "data": {
      "text/plain": [
       "np.float64(0.05792107864064731)"
      ]
     },
     "execution_count": 51,
     "metadata": {},
     "output_type": "execute_result"
    }
   ],
   "source": [
    "variancia_portfolio2 = np.dot(pesos2, np.dot(taxas_retorno.cov() * 246, pesos2))\n",
    "variancia_portfolio2"
   ]
  },
  {
   "cell_type": "code",
   "execution_count": 53,
   "metadata": {},
   "outputs": [
    {
     "data": {
      "text/plain": [
       "0.2406679842451989"
      ]
     },
     "execution_count": 53,
     "metadata": {},
     "output_type": "execute_result"
    }
   ],
   "source": [
    "volatilidade_portfolio2 = math.sqrt(variancia_portfolio2)\n",
    "volatilidade_portfolio2"
   ]
  },
  {
   "cell_type": "markdown",
   "metadata": {},
   "source": [
    "## Risco sistemático e não sistemático"
   ]
  },
  {
   "cell_type": "code",
   "execution_count": null,
   "metadata": {},
   "outputs": [],
   "source": []
  }
 ],
 "metadata": {
  "kernelspec": {
   "display_name": "Python 3",
   "language": "python",
   "name": "python3"
  },
  "language_info": {
   "codemirror_mode": {
    "name": "ipython",
    "version": 3
   },
   "file_extension": ".py",
   "mimetype": "text/x-python",
   "name": "python",
   "nbconvert_exporter": "python",
   "pygments_lexer": "ipython3",
   "version": "3.13.2"
  }
 },
 "nbformat": 4,
 "nbformat_minor": 2
}
