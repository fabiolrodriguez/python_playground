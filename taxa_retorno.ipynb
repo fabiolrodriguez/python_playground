{
 "cells": [
  {
   "cell_type": "markdown",
   "metadata": {},
   "source": [
    "# Taxa de Retorno"
   ]
  },
  {
   "cell_type": "markdown",
   "metadata": {},
   "source": [
    "## Importação das libs"
   ]
  },
  {
   "cell_type": "code",
   "execution_count": 2,
   "metadata": {},
   "outputs": [],
   "source": [
    "import pandas as pd\n",
    "import numpy as np\n",
    "import plotly.express as px"
   ]
  },
  {
   "cell_type": "markdown",
   "metadata": {},
   "source": [
    "## Taxa de torno Simples"
   ]
  },
  {
   "cell_type": "code",
   "execution_count": 4,
   "metadata": {},
   "outputs": [
    {
     "data": {
      "text/html": [
       "<div>\n",
       "<style scoped>\n",
       "    .dataframe tbody tr th:only-of-type {\n",
       "        vertical-align: middle;\n",
       "    }\n",
       "\n",
       "    .dataframe tbody tr th {\n",
       "        vertical-align: top;\n",
       "    }\n",
       "\n",
       "    .dataframe thead th {\n",
       "        text-align: right;\n",
       "    }\n",
       "</style>\n",
       "<table border=\"1\" class=\"dataframe\">\n",
       "  <thead>\n",
       "    <tr style=\"text-align: right;\">\n",
       "      <th></th>\n",
       "      <th>Date</th>\n",
       "      <th>GOL</th>\n",
       "      <th>CVC</th>\n",
       "      <th>WEG</th>\n",
       "      <th>MGLU</th>\n",
       "      <th>TOTVS</th>\n",
       "      <th>IBOV</th>\n",
       "    </tr>\n",
       "  </thead>\n",
       "  <tbody>\n",
       "    <tr>\n",
       "      <th>0</th>\n",
       "      <td>2015-01-02</td>\n",
       "      <td>14.99</td>\n",
       "      <td>11.164607</td>\n",
       "      <td>4.988705</td>\n",
       "      <td>2.058074</td>\n",
       "      <td>10.155536</td>\n",
       "      <td>47.259998</td>\n",
       "    </tr>\n",
       "    <tr>\n",
       "      <th>1</th>\n",
       "      <td>2015-01-05</td>\n",
       "      <td>14.85</td>\n",
       "      <td>11.017703</td>\n",
       "      <td>5.022718</td>\n",
       "      <td>2.096750</td>\n",
       "      <td>9.843493</td>\n",
       "      <td>46.320000</td>\n",
       "    </tr>\n",
       "    <tr>\n",
       "      <th>2</th>\n",
       "      <td>2015-01-06</td>\n",
       "      <td>15.21</td>\n",
       "      <td>10.870803</td>\n",
       "      <td>4.948212</td>\n",
       "      <td>2.069124</td>\n",
       "      <td>9.227921</td>\n",
       "      <td>46.580002</td>\n",
       "    </tr>\n",
       "    <tr>\n",
       "      <th>3</th>\n",
       "      <td>2015-01-07</td>\n",
       "      <td>14.55</td>\n",
       "      <td>10.775316</td>\n",
       "      <td>4.891521</td>\n",
       "      <td>2.138187</td>\n",
       "      <td>9.162673</td>\n",
       "      <td>48.150002</td>\n",
       "    </tr>\n",
       "    <tr>\n",
       "      <th>4</th>\n",
       "      <td>2015-01-08</td>\n",
       "      <td>14.27</td>\n",
       "      <td>10.393366</td>\n",
       "      <td>4.974128</td>\n",
       "      <td>2.121612</td>\n",
       "      <td>9.375432</td>\n",
       "      <td>48.509998</td>\n",
       "    </tr>\n",
       "    <tr>\n",
       "      <th>...</th>\n",
       "      <td>...</td>\n",
       "      <td>...</td>\n",
       "      <td>...</td>\n",
       "      <td>...</td>\n",
       "      <td>...</td>\n",
       "      <td>...</td>\n",
       "      <td>...</td>\n",
       "    </tr>\n",
       "    <tr>\n",
       "      <th>2477</th>\n",
       "      <td>2025-01-27</td>\n",
       "      <td>1.71</td>\n",
       "      <td>1.860000</td>\n",
       "      <td>53.310001</td>\n",
       "      <td>7.010000</td>\n",
       "      <td>31.209999</td>\n",
       "      <td>121.870003</td>\n",
       "    </tr>\n",
       "    <tr>\n",
       "      <th>2478</th>\n",
       "      <td>2025-01-28</td>\n",
       "      <td>1.71</td>\n",
       "      <td>1.770000</td>\n",
       "      <td>54.090000</td>\n",
       "      <td>6.760000</td>\n",
       "      <td>30.790001</td>\n",
       "      <td>121.029999</td>\n",
       "    </tr>\n",
       "    <tr>\n",
       "      <th>2479</th>\n",
       "      <td>2025-01-29</td>\n",
       "      <td>1.69</td>\n",
       "      <td>1.800000</td>\n",
       "      <td>54.430000</td>\n",
       "      <td>6.590000</td>\n",
       "      <td>31.150000</td>\n",
       "      <td>120.169998</td>\n",
       "    </tr>\n",
       "    <tr>\n",
       "      <th>2480</th>\n",
       "      <td>2025-01-30</td>\n",
       "      <td>1.70</td>\n",
       "      <td>1.950000</td>\n",
       "      <td>56.209999</td>\n",
       "      <td>7.270000</td>\n",
       "      <td>32.610001</td>\n",
       "      <td>123.949997</td>\n",
       "    </tr>\n",
       "    <tr>\n",
       "      <th>2481</th>\n",
       "      <td>2025-01-31</td>\n",
       "      <td>1.70</td>\n",
       "      <td>1.970000</td>\n",
       "      <td>55.040001</td>\n",
       "      <td>7.460000</td>\n",
       "      <td>34.060001</td>\n",
       "      <td>123.000000</td>\n",
       "    </tr>\n",
       "  </tbody>\n",
       "</table>\n",
       "<p>2482 rows × 7 columns</p>\n",
       "</div>"
      ],
      "text/plain": [
       "            Date    GOL        CVC        WEG      MGLU      TOTVS        IBOV\n",
       "0     2015-01-02  14.99  11.164607   4.988705  2.058074  10.155536   47.259998\n",
       "1     2015-01-05  14.85  11.017703   5.022718  2.096750   9.843493   46.320000\n",
       "2     2015-01-06  15.21  10.870803   4.948212  2.069124   9.227921   46.580002\n",
       "3     2015-01-07  14.55  10.775316   4.891521  2.138187   9.162673   48.150002\n",
       "4     2015-01-08  14.27  10.393366   4.974128  2.121612   9.375432   48.509998\n",
       "...          ...    ...        ...        ...       ...        ...         ...\n",
       "2477  2025-01-27   1.71   1.860000  53.310001  7.010000  31.209999  121.870003\n",
       "2478  2025-01-28   1.71   1.770000  54.090000  6.760000  30.790001  121.029999\n",
       "2479  2025-01-29   1.69   1.800000  54.430000  6.590000  31.150000  120.169998\n",
       "2480  2025-01-30   1.70   1.950000  56.209999  7.270000  32.610001  123.949997\n",
       "2481  2025-01-31   1.70   1.970000  55.040001  7.460000  34.060001  123.000000\n",
       "\n",
       "[2482 rows x 7 columns]"
      ]
     },
     "execution_count": 4,
     "metadata": {},
     "output_type": "execute_result"
    }
   ],
   "source": [
    "dataset = pd.read_csv('acoes.csv')\n",
    "dataset.shape\n",
    "dataset"
   ]
  },
  {
   "cell_type": "code",
   "execution_count": 8,
   "metadata": {},
   "outputs": [
    {
     "data": {
      "text/plain": [
       "(np.float64(14.989999771118164), np.float64(1.7000000476837158))"
      ]
     },
     "execution_count": 8,
     "metadata": {},
     "output_type": "execute_result"
    }
   ],
   "source": [
    "dataset['GOL'][0], dataset['GOL'][len(dataset) - 1]"
   ]
  },
  {
   "cell_type": "code",
   "execution_count": 10,
   "metadata": {},
   "outputs": [
    {
     "data": {
      "text/plain": [
       "np.float64(-88.65910557944655)"
      ]
     },
     "execution_count": 10,
     "metadata": {},
     "output_type": "execute_result"
    }
   ],
   "source": [
    "((dataset['GOL'][len(dataset) -1] - dataset['GOL'][0]) / dataset['GOL'][0]) * 100"
   ]
  },
  {
   "cell_type": "code",
   "execution_count": 22,
   "metadata": {},
   "outputs": [
    {
     "name": "stdout",
     "output_type": "stream",
     "text": [
      "GOL: -88.65910557944655\n",
      "CVC: -82.3549541857184\n",
      "WEG: 1003.2924262039106\n",
      "MGLU: 262.47486297504906\n",
      "TOTVS: 235.38360147963382\n",
      "IBOV: 160.26238757600032\n"
     ]
    }
   ],
   "source": [
    "for acao in dataset.columns[1:]:\n",
    "    print(acao + \": \" +str(((dataset[acao][len(dataset) -1] - dataset[acao][0]) / dataset[acao][0]) * 100))"
   ]
  },
  {
   "cell_type": "code",
   "execution_count": 24,
   "metadata": {},
   "outputs": [
    {
     "data": {
      "text/plain": [
       "np.float64(160.26238757600035)"
      ]
     },
     "execution_count": 24,
     "metadata": {},
     "output_type": "execute_result"
    }
   ],
   "source": [
    "(dataset['IBOV'][len(dataset) - 1] / dataset['IBOV'][0] -1) * 100"
   ]
  },
  {
   "cell_type": "markdown",
   "metadata": {},
   "source": [
    "## Taxa de retorno Diaria"
   ]
  },
  {
   "cell_type": "code",
   "execution_count": 25,
   "metadata": {},
   "outputs": [
    {
     "data": {
      "text/plain": [
       "0         NaN\n",
       "1       14.99\n",
       "2       14.85\n",
       "3       15.21\n",
       "4       14.55\n",
       "        ...  \n",
       "2477     1.71\n",
       "2478     1.71\n",
       "2479     1.71\n",
       "2480     1.69\n",
       "2481     1.70\n",
       "Name: GOL, Length: 2482, dtype: float64"
      ]
     },
     "execution_count": 25,
     "metadata": {},
     "output_type": "execute_result"
    }
   ],
   "source": [
    "dataset['GOL'].shift(1)"
   ]
  },
  {
   "cell_type": "code",
   "execution_count": 27,
   "metadata": {},
   "outputs": [
    {
     "data": {
      "text/html": [
       "<div>\n",
       "<style scoped>\n",
       "    .dataframe tbody tr th:only-of-type {\n",
       "        vertical-align: middle;\n",
       "    }\n",
       "\n",
       "    .dataframe tbody tr th {\n",
       "        vertical-align: top;\n",
       "    }\n",
       "\n",
       "    .dataframe thead th {\n",
       "        text-align: right;\n",
       "    }\n",
       "</style>\n",
       "<table border=\"1\" class=\"dataframe\">\n",
       "  <thead>\n",
       "    <tr style=\"text-align: right;\">\n",
       "      <th></th>\n",
       "      <th>Date</th>\n",
       "      <th>GOL</th>\n",
       "      <th>CVC</th>\n",
       "      <th>WEG</th>\n",
       "      <th>MGLU</th>\n",
       "      <th>TOTVS</th>\n",
       "      <th>IBOV</th>\n",
       "      <th>RS GOL</th>\n",
       "    </tr>\n",
       "  </thead>\n",
       "  <tbody>\n",
       "    <tr>\n",
       "      <th>0</th>\n",
       "      <td>2015-01-02</td>\n",
       "      <td>14.99</td>\n",
       "      <td>11.164607</td>\n",
       "      <td>4.988705</td>\n",
       "      <td>2.058074</td>\n",
       "      <td>10.155536</td>\n",
       "      <td>47.259998</td>\n",
       "      <td>NaN</td>\n",
       "    </tr>\n",
       "    <tr>\n",
       "      <th>1</th>\n",
       "      <td>2015-01-05</td>\n",
       "      <td>14.85</td>\n",
       "      <td>11.017703</td>\n",
       "      <td>5.022718</td>\n",
       "      <td>2.096750</td>\n",
       "      <td>9.843493</td>\n",
       "      <td>46.320000</td>\n",
       "      <td>-0.009340</td>\n",
       "    </tr>\n",
       "    <tr>\n",
       "      <th>2</th>\n",
       "      <td>2015-01-06</td>\n",
       "      <td>15.21</td>\n",
       "      <td>10.870803</td>\n",
       "      <td>4.948212</td>\n",
       "      <td>2.069124</td>\n",
       "      <td>9.227921</td>\n",
       "      <td>46.580002</td>\n",
       "      <td>0.024242</td>\n",
       "    </tr>\n",
       "    <tr>\n",
       "      <th>3</th>\n",
       "      <td>2015-01-07</td>\n",
       "      <td>14.55</td>\n",
       "      <td>10.775316</td>\n",
       "      <td>4.891521</td>\n",
       "      <td>2.138187</td>\n",
       "      <td>9.162673</td>\n",
       "      <td>48.150002</td>\n",
       "      <td>-0.043392</td>\n",
       "    </tr>\n",
       "    <tr>\n",
       "      <th>4</th>\n",
       "      <td>2015-01-08</td>\n",
       "      <td>14.27</td>\n",
       "      <td>10.393366</td>\n",
       "      <td>4.974128</td>\n",
       "      <td>2.121612</td>\n",
       "      <td>9.375432</td>\n",
       "      <td>48.509998</td>\n",
       "      <td>-0.019244</td>\n",
       "    </tr>\n",
       "    <tr>\n",
       "      <th>...</th>\n",
       "      <td>...</td>\n",
       "      <td>...</td>\n",
       "      <td>...</td>\n",
       "      <td>...</td>\n",
       "      <td>...</td>\n",
       "      <td>...</td>\n",
       "      <td>...</td>\n",
       "      <td>...</td>\n",
       "    </tr>\n",
       "    <tr>\n",
       "      <th>2477</th>\n",
       "      <td>2025-01-27</td>\n",
       "      <td>1.71</td>\n",
       "      <td>1.860000</td>\n",
       "      <td>53.310001</td>\n",
       "      <td>7.010000</td>\n",
       "      <td>31.209999</td>\n",
       "      <td>121.870003</td>\n",
       "      <td>0.000000</td>\n",
       "    </tr>\n",
       "    <tr>\n",
       "      <th>2478</th>\n",
       "      <td>2025-01-28</td>\n",
       "      <td>1.71</td>\n",
       "      <td>1.770000</td>\n",
       "      <td>54.090000</td>\n",
       "      <td>6.760000</td>\n",
       "      <td>30.790001</td>\n",
       "      <td>121.029999</td>\n",
       "      <td>0.000000</td>\n",
       "    </tr>\n",
       "    <tr>\n",
       "      <th>2479</th>\n",
       "      <td>2025-01-29</td>\n",
       "      <td>1.69</td>\n",
       "      <td>1.800000</td>\n",
       "      <td>54.430000</td>\n",
       "      <td>6.590000</td>\n",
       "      <td>31.150000</td>\n",
       "      <td>120.169998</td>\n",
       "      <td>-0.011696</td>\n",
       "    </tr>\n",
       "    <tr>\n",
       "      <th>2480</th>\n",
       "      <td>2025-01-30</td>\n",
       "      <td>1.70</td>\n",
       "      <td>1.950000</td>\n",
       "      <td>56.209999</td>\n",
       "      <td>7.270000</td>\n",
       "      <td>32.610001</td>\n",
       "      <td>123.949997</td>\n",
       "      <td>0.005917</td>\n",
       "    </tr>\n",
       "    <tr>\n",
       "      <th>2481</th>\n",
       "      <td>2025-01-31</td>\n",
       "      <td>1.70</td>\n",
       "      <td>1.970000</td>\n",
       "      <td>55.040001</td>\n",
       "      <td>7.460000</td>\n",
       "      <td>34.060001</td>\n",
       "      <td>123.000000</td>\n",
       "      <td>0.000000</td>\n",
       "    </tr>\n",
       "  </tbody>\n",
       "</table>\n",
       "<p>2482 rows × 8 columns</p>\n",
       "</div>"
      ],
      "text/plain": [
       "            Date    GOL        CVC        WEG      MGLU      TOTVS  \\\n",
       "0     2015-01-02  14.99  11.164607   4.988705  2.058074  10.155536   \n",
       "1     2015-01-05  14.85  11.017703   5.022718  2.096750   9.843493   \n",
       "2     2015-01-06  15.21  10.870803   4.948212  2.069124   9.227921   \n",
       "3     2015-01-07  14.55  10.775316   4.891521  2.138187   9.162673   \n",
       "4     2015-01-08  14.27  10.393366   4.974128  2.121612   9.375432   \n",
       "...          ...    ...        ...        ...       ...        ...   \n",
       "2477  2025-01-27   1.71   1.860000  53.310001  7.010000  31.209999   \n",
       "2478  2025-01-28   1.71   1.770000  54.090000  6.760000  30.790001   \n",
       "2479  2025-01-29   1.69   1.800000  54.430000  6.590000  31.150000   \n",
       "2480  2025-01-30   1.70   1.950000  56.209999  7.270000  32.610001   \n",
       "2481  2025-01-31   1.70   1.970000  55.040001  7.460000  34.060001   \n",
       "\n",
       "            IBOV    RS GOL  \n",
       "0      47.259998       NaN  \n",
       "1      46.320000 -0.009340  \n",
       "2      46.580002  0.024242  \n",
       "3      48.150002 -0.043392  \n",
       "4      48.509998 -0.019244  \n",
       "...          ...       ...  \n",
       "2477  121.870003  0.000000  \n",
       "2478  121.029999  0.000000  \n",
       "2479  120.169998 -0.011696  \n",
       "2480  123.949997  0.005917  \n",
       "2481  123.000000  0.000000  \n",
       "\n",
       "[2482 rows x 8 columns]"
      ]
     },
     "execution_count": 27,
     "metadata": {},
     "output_type": "execute_result"
    }
   ],
   "source": [
    "dataset['RS GOL'] = (dataset['GOL'] / dataset['GOL'].shift(1)) - 1\n",
    "dataset"
   ]
  },
  {
   "cell_type": "code",
   "execution_count": 28,
   "metadata": {},
   "outputs": [
    {
     "data": {
      "text/plain": [
       "<Axes: >"
      ]
     },
     "execution_count": 28,
     "metadata": {},
     "output_type": "execute_result"
    },
    {
     "data": {
      "image/png": "[encoded data removed]",
      "text/plain": [
       "<Figure size 640x480 with 1 Axes>"
      ]
     },
     "metadata": {},
     "output_type": "display_data"
    }
   ],
   "source": [
    "dataset['RS GOL'].plot()"
   ]
  },
  {
   "cell_type": "code",
   "execution_count": null,
   "metadata": {},
   "outputs": [],
   "source": [
    "dataset['RS GOL'].mean()"
   ]
  },
  {
   "cell_type": "markdown",
   "metadata": {},
   "source": [
    "## Taxa de retorno logarítimica"
   ]
  },
  {
   "cell_type": "code",
   "execution_count": null,
   "metadata": {},
   "outputs": [],
   "source": []
  },
  {
   "cell_type": "markdown",
   "metadata": {},
   "source": [
    "## Retorno da carteira"
   ]
  },
  {
   "cell_type": "code",
   "execution_count": null,
   "metadata": {},
   "outputs": [],
   "source": []
  },
  {
   "cell_type": "markdown",
   "metadata": {},
   "source": [
    "## Retorno da carteira x IBOV"
   ]
  },
  {
   "cell_type": "markdown",
   "metadata": {},
   "source": []
  }
 ],
 "metadata": {
  "kernelspec": {
   "display_name": "Python 3",
   "language": "python",
   "name": "python3"
  },
  "language_info": {
   "codemirror_mode": {
    "name": "ipython",
    "version": 3
   },
   "file_extension": ".py",
   "mimetype": "text/x-python",
   "name": "python",
   "nbconvert_exporter": "python",
   "pygments_lexer": "ipython3",
   "version": "3.13.2"
  }
 },
 "nbformat": 4,
 "nbformat_minor": 2
}
